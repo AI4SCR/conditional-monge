{
 "cells": [
  {
   "cell_type": "code",
   "execution_count": 1,
   "id": "eb8f249c-62bd-4f3e-814c-46453b7a0a19",
   "metadata": {},
   "outputs": [],
   "source": [
    "import scanpy as sc\n",
    "import os"
   ]
  },
  {
   "cell_type": "code",
   "execution_count": 3,
   "id": "73d1a80b-c8ad-4a07-89d4-823ed6062deb",
   "metadata": {},
   "outputs": [],
   "source": [
    "drugs = [\"abexinostat\", \"belinostat\", \"dacinostat\", \"entinostat\", \"givinostat\", \n",
    "             \"mocetinostat\", \"pracinostat\", \"tacedinaline\", \"trametinib\"]\n",
    "adata = sc.read_h5ad(\"/Users/adr/Box/otperturb/datasets/scrna-sciplex3/hvg.h5ad\")"
   ]
  },
  {
   "cell_type": "code",
   "execution_count": 4,
   "id": "f04a3d3f-13c8-40cc-9146-06418bd707b9",
   "metadata": {},
   "outputs": [
    {
     "data": {
      "text/plain": [
       "AnnData object with n_obs × n_vars = 762039 × 1000\n",
       "    obs: 'size_factor', 'cell_type', 'replicate', 'dose', 'drug_code', 'pathway_level_1', 'pathway_level_2', 'product_name', 'target', 'pathway', 'drug', 'drug-dose', 'drug_code-dose', 'n_genes'\n",
       "    var: 'gene_short_name', 'n_cells', 'highly_variable', 'means', 'dispersions', 'dispersions_norm'\n",
       "    uns: 'hvg', 'pca', 'rank_genes_groups'\n",
       "    obsm: 'X_pca'\n",
       "    varm: 'PCs', 'marker_genes-drug-rank', 'marker_genes-drug-score'"
      ]
     },
     "execution_count": 4,
     "metadata": {},
     "output_type": "execute_result"
    }
   ],
   "source": [
    "adata"
   ]
  },
  {
   "cell_type": "code",
   "execution_count": 6,
   "id": "fb970745-76a8-4ae1-835c-d71ca52e2986",
   "metadata": {},
   "outputs": [
    {
     "data": {
      "text/plain": [
       "4031.9523809523807"
      ]
     },
     "execution_count": 6,
     "metadata": {},
     "output_type": "execute_result"
    }
   ],
   "source": [
    "adata.obs.groupby(\"drug\").size().mean()"
   ]
  },
  {
   "cell_type": "code",
   "execution_count": 7,
   "id": "5190f572-f6e4-4274-92ec-c464c780c3e9",
   "metadata": {},
   "outputs": [
    {
     "name": "stdout",
     "output_type": "stream",
     "text": [
      "abexinostat True\n",
      "belinostat True\n",
      "dacinostat True\n",
      "entinostat True\n",
      "givinostat True\n",
      "mocetinostat True\n",
      "pracinostat True\n",
      "tacedinaline True\n",
      "trametinib True\n"
     ]
    }
   ],
   "source": [
    "for d in drugs:\n",
    "    print(d, d in adata.obs[\"drug\"].unique())"
   ]
  },
  {
   "cell_type": "code",
   "execution_count": 8,
   "id": "de55a25c-4d74-4767-bb50-230eef6c748e",
   "metadata": {},
   "outputs": [
    {
     "data": {
      "text/plain": [
       "View of AnnData object with n_obs × n_vars = 54233 × 1000\n",
       "    obs: 'size_factor', 'cell_type', 'replicate', 'dose', 'drug_code', 'pathway_level_1', 'pathway_level_2', 'product_name', 'target', 'pathway', 'drug', 'drug-dose', 'drug_code-dose', 'n_genes'\n",
       "    var: 'gene_short_name', 'n_cells', 'highly_variable', 'means', 'dispersions', 'dispersions_norm'\n",
       "    uns: 'hvg', 'pca', 'rank_genes_groups'\n",
       "    obsm: 'X_pca'\n",
       "    varm: 'PCs', 'marker_genes-drug-rank', 'marker_genes-drug-score'"
      ]
     },
     "execution_count": 8,
     "metadata": {},
     "output_type": "execute_result"
    }
   ],
   "source": [
    "drug_adata = adata[adata.obs[\"drug\"].isin(drugs+[\"control\"])]\n",
    "drug_adata"
   ]
  },
  {
   "cell_type": "code",
   "execution_count": 9,
   "id": "2391d346-f973-416d-bb1b-13d1b136bba6",
   "metadata": {},
   "outputs": [
    {
     "data": {
      "text/plain": [
       "5423.3"
      ]
     },
     "execution_count": 9,
     "metadata": {},
     "output_type": "execute_result"
    }
   ],
   "source": [
    "drug_adata.obs.groupby(\"drug\").size().mean()"
   ]
  },
  {
   "cell_type": "code",
   "execution_count": 7,
   "id": "0e7b0743-d79d-417f-8823-da9bcb2c5a22",
   "metadata": {},
   "outputs": [
    {
     "data": {
      "text/plain": [
       "['abexinostat', 'control', 'dacinostat', 'trametinib', 'belinostat', 'mocetinostat', 'givinostat', 'entinostat', 'tacedinaline', 'pracinostat']\n",
       "Categories (10, object): ['abexinostat', 'belinostat', 'dacinostat', 'entinostat', ..., 'pracinostat', 'tacedinaline', 'trametinib', 'control']"
      ]
     },
     "execution_count": 7,
     "metadata": {},
     "output_type": "execute_result"
    }
   ],
   "source": [
    "drug_adata.obs[\"drug\"].unique()"
   ]
  },
  {
   "cell_type": "code",
   "execution_count": 8,
   "id": "8e872292-cc64-4787-9cae-18841299f398",
   "metadata": {},
   "outputs": [
    {
     "name": "stdout",
     "output_type": "stream",
     "text": [
      "abexinostat ['abexinostat-1000' 'control-0' 'abexinostat-10' 'train' 'abexinostat-100'\n",
      " 'abexinostat-10000']\n",
      "Directory exists\n",
      "belinostat ['train' 'control-0' 'belinostat-10' 'belinostat-1000' 'belinostat-10000'\n",
      " 'belinostat-100']\n",
      "Directory exists\n",
      "dacinostat ['train' 'control-0' 'dacinostat-1000' 'dacinostat-100' 'dacinostat-10'\n",
      " 'dacinostat-10000']\n",
      "Directory exists\n",
      "entinostat ['train' 'control-0' 'entinostat-100' 'entinostat-10000' 'entinostat-10'\n",
      " 'entinostat-1000']\n",
      "Directory exists\n",
      "givinostat ['train' 'control-0' 'givinostat-10' 'givinostat-1000' 'givinostat-10000'\n",
      " 'givinostat-100']\n",
      "Directory exists\n",
      "mocetinostat ['train' 'control-0' 'mocetinostat-10' 'mocetinostat-100'\n",
      " 'mocetinostat-1000' 'mocetinostat-10000']\n",
      "Directory exists\n",
      "pracinostat ['train' 'control-0' 'pracinostat-1000' 'pracinostat-100' 'pracinostat-10'\n",
      " 'pracinostat-10000']\n",
      "Directory exists\n",
      "tacedinaline ['train' 'control-0' 'tacedinaline-10' 'tacedinaline-10000'\n",
      " 'tacedinaline-1000' 'tacedinaline-100']\n",
      "Directory exists\n",
      "trametinib ['train' 'control-0' 'trametinib-10000' 'trametinib-1000' 'trametinib-10'\n",
      " 'trametinib-100']\n",
      "Directory exists\n"
     ]
    }
   ],
   "source": [
    "for d in drugs:\n",
    "    data = drug_adata.copy()\n",
    "    data.obs[\"ood_split\"] = [dd if d in dd or \"control\" in dd else \"train\" for dd in data.obs['drug-dose'] ]\n",
    "\n",
    "    print(d, data.obs[\"ood_split\"].unique())\n",
    "\n",
    "    try:\n",
    "        os.makedirs(f\"/dccstor/storage01/data/sciplex_monge_ood/{d}\")\n",
    "    except FileExistsError:\n",
    "        print(\"Directory exists\")\n",
    "\n",
    "    data.write_h5ad(f\"/dccstor/storage01/data/sciplex_monge_ood/{d}/hvg.h5ad\")\n"
   ]
  },
  {
   "cell_type": "code",
   "execution_count": null,
   "id": "3ef8d081-dd16-4513-b177-bbbf0c1b6488",
   "metadata": {},
   "outputs": [],
   "source": []
  }
 ],
 "metadata": {
  "kernelspec": {
   "display_name": "Python 3 (ipykernel)",
   "language": "python",
   "name": "python3"
  },
  "language_info": {
   "codemirror_mode": {
    "name": "ipython",
    "version": 3
   },
   "file_extension": ".py",
   "mimetype": "text/x-python",
   "name": "python",
   "nbconvert_exporter": "python",
   "pygments_lexer": "ipython3",
   "version": "3.10.1"
  }
 },
 "nbformat": 4,
 "nbformat_minor": 5
}
