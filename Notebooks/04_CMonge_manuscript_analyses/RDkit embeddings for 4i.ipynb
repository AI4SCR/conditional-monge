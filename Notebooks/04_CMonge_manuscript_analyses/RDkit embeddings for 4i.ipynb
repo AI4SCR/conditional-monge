{
 "cells": [
  {
   "cell_type": "code",
   "execution_count": 1,
   "id": "c62dda6e-37af-497b-8712-9aacc1565882",
   "metadata": {},
   "outputs": [
    {
     "name": "stderr",
     "output_type": "stream",
     "text": [
      "WARNING:absl:Tensorflow library not found, tensorflow.io.gfile operations will use native shim calls. GCS paths (i.e. 'gs://...') cannot be accessed.\n"
     ]
    }
   ],
   "source": [
    "from cmonge.models.embedding import RDKitEmbedding\n",
    "from cmonge.utils import load_config\n",
    "from cmonge.datasets.conditional_loader import ConditionalDataModule\n",
    "\n",
    "import pandas as pd"
   ]
  },
  {
   "cell_type": "code",
   "execution_count": 2,
   "id": "9271c1c6-187d-40db-9f35-9d7417d886f5",
   "metadata": {},
   "outputs": [],
   "source": [
    "smiles = pd.read_csv(\"/Users/adr/Box/otperturb/benedek-archive/ot-perturb/data/4i_drug_smiles.csv\")"
   ]
  },
  {
   "cell_type": "code",
   "execution_count": 3,
   "id": "7461cbb1-95b6-4088-b8e4-80326be19138",
   "metadata": {},
   "outputs": [],
   "source": [
    "smiles_path = \"/Users/adr/Box/otperturb/benedek-archive/ot-perturb/data/4i_drugs.smiles\"\n",
    "drugs_to_smiles_path = \"/Users/adr/Box/otperturb/benedek-archive/ot-perturb/data/4i_drug_smiles.csv\"\n",
    "checkpoint=False\n",
    "name=\"rdkit\"\n",
    "model_dir = \"/Users/adr/Box/otperturb/alice_exp/models/embed/4i/\"\n",
    "datamodule=None"
   ]
  },
  {
   "cell_type": "code",
   "execution_count": 4,
   "id": "da60ab43-346b-4a70-9892-b864425c7d8e",
   "metadata": {},
   "outputs": [],
   "source": [
    "config_path = \"/Users/adr/Projects/enlight/enlight/OT_analysis/condmonge/configs/4i/conditional-monge-4i.yml\""
   ]
  },
  {
   "cell_type": "code",
   "execution_count": 5,
   "id": "39277f68-ff37-4f3c-a769-62948961c1c2",
   "metadata": {},
   "outputs": [],
   "source": [
    "config = load_config(config_path)\n",
    "config.data.file_path = \"/Users/adr/Box/otperturb/datasets/4i/8h.h5ad\"\n",
    "config.data.features = \"/Users/adr/Box/otperturb/datasets/4i/features.txt\"\n",
    "config.data.drugs_path = \"/Users/adr/Box/otperturb/datasets/4i/drugs.txt\"\n",
    "# config.condition.conditions = [d for d in smiles[\"Name\"].values if not d in non_data_drugs]\n",
    "config.model.embedding.checkpoint = False\n",
    "\n",
    "del config.ood_condition"
   ]
  },
  {
   "cell_type": "code",
   "execution_count": 6,
   "id": "6467d146-8a3f-4e5f-86b6-11c25ef22023",
   "metadata": {},
   "outputs": [
    {
     "name": "stderr",
     "output_type": "stream",
     "text": [
      "\u001b[32m2024-10-08 12:21:38.190\u001b[0m | \u001b[1mINFO    \u001b[0m | \u001b[36mcmonge.datasets.conditional_loader\u001b[0m:\u001b[36msetup_single_loader\u001b[0m:\u001b[36m81\u001b[0m - \u001b[1mSetting up datamodules for cisplatin\u001b[0m\n",
      "\u001b[32m2024-10-08 12:21:38.429\u001b[0m | \u001b[1mINFO    \u001b[0m | \u001b[36mcmonge.datasets.single_loader\u001b[0m:\u001b[36msplitter\u001b[0m:\u001b[36m80\u001b[0m - \u001b[1mSplitting dataset started.\u001b[0m\n",
      "\u001b[32m2024-10-08 12:21:38.768\u001b[0m | \u001b[1mINFO    \u001b[0m | \u001b[36mcmonge.datasets.single_loader\u001b[0m:\u001b[36msplitter\u001b[0m:\u001b[36m121\u001b[0m - \u001b[1mTarget dataset number of cells - train: (2154,), valid: (539,), test: (0,).\u001b[0m\n",
      "\u001b[32m2024-10-08 12:21:38.769\u001b[0m | \u001b[1mINFO    \u001b[0m | \u001b[36mcmonge.datasets.single_loader\u001b[0m:\u001b[36msplitter\u001b[0m:\u001b[36m124\u001b[0m - \u001b[1mControl dataset number of cells - train: (8796,), valid: (2199,), test: (0,).\u001b[0m\n",
      "\u001b[32m2024-10-08 12:21:38.769\u001b[0m | \u001b[1mINFO    \u001b[0m | \u001b[36mcmonge.datasets.single_loader\u001b[0m:\u001b[36msplitter\u001b[0m:\u001b[36m127\u001b[0m - \u001b[1mSplitting finished.\u001b[0m\n",
      "\u001b[32m2024-10-08 12:21:38.770\u001b[0m | \u001b[1mINFO    \u001b[0m | \u001b[36mcmonge.datasets.conditional_loader\u001b[0m:\u001b[36msetup_single_loader\u001b[0m:\u001b[36m81\u001b[0m - \u001b[1mSetting up datamodules for cisplatin_olaparib\u001b[0m\n",
      "\u001b[32m2024-10-08 12:21:38.955\u001b[0m | \u001b[1mINFO    \u001b[0m | \u001b[36mcmonge.datasets.single_loader\u001b[0m:\u001b[36msplitter\u001b[0m:\u001b[36m80\u001b[0m - \u001b[1mSplitting dataset started.\u001b[0m\n",
      "\u001b[32m2024-10-08 12:21:38.973\u001b[0m | \u001b[1mINFO    \u001b[0m | \u001b[36mcmonge.datasets.single_loader\u001b[0m:\u001b[36msplitter\u001b[0m:\u001b[36m121\u001b[0m - \u001b[1mTarget dataset number of cells - train: (1796,), valid: (449,), test: (0,).\u001b[0m\n",
      "\u001b[32m2024-10-08 12:21:38.974\u001b[0m | \u001b[1mINFO    \u001b[0m | \u001b[36mcmonge.datasets.single_loader\u001b[0m:\u001b[36msplitter\u001b[0m:\u001b[36m124\u001b[0m - \u001b[1mControl dataset number of cells - train: (8796,), valid: (2199,), test: (0,).\u001b[0m\n",
      "\u001b[32m2024-10-08 12:21:38.975\u001b[0m | \u001b[1mINFO    \u001b[0m | \u001b[36mcmonge.datasets.single_loader\u001b[0m:\u001b[36msplitter\u001b[0m:\u001b[36m127\u001b[0m - \u001b[1mSplitting finished.\u001b[0m\n",
      "\u001b[32m2024-10-08 12:21:38.976\u001b[0m | \u001b[1mINFO    \u001b[0m | \u001b[36mcmonge.datasets.conditional_loader\u001b[0m:\u001b[36msetup_single_loader\u001b[0m:\u001b[36m81\u001b[0m - \u001b[1mSetting up datamodules for crizotinib\u001b[0m\n",
      "\u001b[32m2024-10-08 12:21:39.169\u001b[0m | \u001b[1mINFO    \u001b[0m | \u001b[36mcmonge.datasets.single_loader\u001b[0m:\u001b[36msplitter\u001b[0m:\u001b[36m80\u001b[0m - \u001b[1mSplitting dataset started.\u001b[0m\n",
      "\u001b[32m2024-10-08 12:21:39.185\u001b[0m | \u001b[1mINFO    \u001b[0m | \u001b[36mcmonge.datasets.single_loader\u001b[0m:\u001b[36msplitter\u001b[0m:\u001b[36m121\u001b[0m - \u001b[1mTarget dataset number of cells - train: (1582,), valid: (396,), test: (0,).\u001b[0m\n",
      "\u001b[32m2024-10-08 12:21:39.186\u001b[0m | \u001b[1mINFO    \u001b[0m | \u001b[36mcmonge.datasets.single_loader\u001b[0m:\u001b[36msplitter\u001b[0m:\u001b[36m124\u001b[0m - \u001b[1mControl dataset number of cells - train: (8796,), valid: (2199,), test: (0,).\u001b[0m\n",
      "\u001b[32m2024-10-08 12:21:39.186\u001b[0m | \u001b[1mINFO    \u001b[0m | \u001b[36mcmonge.datasets.single_loader\u001b[0m:\u001b[36msplitter\u001b[0m:\u001b[36m127\u001b[0m - \u001b[1mSplitting finished.\u001b[0m\n",
      "\u001b[32m2024-10-08 12:21:39.187\u001b[0m | \u001b[1mINFO    \u001b[0m | \u001b[36mcmonge.datasets.conditional_loader\u001b[0m:\u001b[36msetup_single_loader\u001b[0m:\u001b[36m81\u001b[0m - \u001b[1mSetting up datamodules for dabrafenib\u001b[0m\n",
      "\u001b[32m2024-10-08 12:21:39.359\u001b[0m | \u001b[1mINFO    \u001b[0m | \u001b[36mcmonge.datasets.single_loader\u001b[0m:\u001b[36msplitter\u001b[0m:\u001b[36m80\u001b[0m - \u001b[1mSplitting dataset started.\u001b[0m\n",
      "\u001b[32m2024-10-08 12:21:39.375\u001b[0m | \u001b[1mINFO    \u001b[0m | \u001b[36mcmonge.datasets.single_loader\u001b[0m:\u001b[36msplitter\u001b[0m:\u001b[36m121\u001b[0m - \u001b[1mTarget dataset number of cells - train: (2140,), valid: (535,), test: (0,).\u001b[0m\n",
      "\u001b[32m2024-10-08 12:21:39.376\u001b[0m | \u001b[1mINFO    \u001b[0m | \u001b[36mcmonge.datasets.single_loader\u001b[0m:\u001b[36msplitter\u001b[0m:\u001b[36m124\u001b[0m - \u001b[1mControl dataset number of cells - train: (8796,), valid: (2199,), test: (0,).\u001b[0m\n",
      "\u001b[32m2024-10-08 12:21:39.377\u001b[0m | \u001b[1mINFO    \u001b[0m | \u001b[36mcmonge.datasets.single_loader\u001b[0m:\u001b[36msplitter\u001b[0m:\u001b[36m127\u001b[0m - \u001b[1mSplitting finished.\u001b[0m\n",
      "\u001b[32m2024-10-08 12:21:39.378\u001b[0m | \u001b[1mINFO    \u001b[0m | \u001b[36mcmonge.datasets.conditional_loader\u001b[0m:\u001b[36msetup_single_loader\u001b[0m:\u001b[36m81\u001b[0m - \u001b[1mSetting up datamodules for dacarbazine\u001b[0m\n",
      "\u001b[32m2024-10-08 12:21:39.546\u001b[0m | \u001b[1mINFO    \u001b[0m | \u001b[36mcmonge.datasets.single_loader\u001b[0m:\u001b[36msplitter\u001b[0m:\u001b[36m80\u001b[0m - \u001b[1mSplitting dataset started.\u001b[0m\n",
      "\u001b[32m2024-10-08 12:21:39.561\u001b[0m | \u001b[1mINFO    \u001b[0m | \u001b[36mcmonge.datasets.single_loader\u001b[0m:\u001b[36msplitter\u001b[0m:\u001b[36m121\u001b[0m - \u001b[1mTarget dataset number of cells - train: (1988,), valid: (497,), test: (0,).\u001b[0m\n",
      "\u001b[32m2024-10-08 12:21:39.562\u001b[0m | \u001b[1mINFO    \u001b[0m | \u001b[36mcmonge.datasets.single_loader\u001b[0m:\u001b[36msplitter\u001b[0m:\u001b[36m124\u001b[0m - \u001b[1mControl dataset number of cells - train: (8796,), valid: (2199,), test: (0,).\u001b[0m\n",
      "\u001b[32m2024-10-08 12:21:39.563\u001b[0m | \u001b[1mINFO    \u001b[0m | \u001b[36mcmonge.datasets.single_loader\u001b[0m:\u001b[36msplitter\u001b[0m:\u001b[36m127\u001b[0m - \u001b[1mSplitting finished.\u001b[0m\n",
      "\u001b[32m2024-10-08 12:21:39.564\u001b[0m | \u001b[1mINFO    \u001b[0m | \u001b[36mcmonge.datasets.conditional_loader\u001b[0m:\u001b[36msetup_single_loader\u001b[0m:\u001b[36m81\u001b[0m - \u001b[1mSetting up datamodules for dasatinib\u001b[0m\n",
      "\u001b[32m2024-10-08 12:21:39.747\u001b[0m | \u001b[1mINFO    \u001b[0m | \u001b[36mcmonge.datasets.single_loader\u001b[0m:\u001b[36msplitter\u001b[0m:\u001b[36m80\u001b[0m - \u001b[1mSplitting dataset started.\u001b[0m\n",
      "\u001b[32m2024-10-08 12:21:39.762\u001b[0m | \u001b[1mINFO    \u001b[0m | \u001b[36mcmonge.datasets.single_loader\u001b[0m:\u001b[36msplitter\u001b[0m:\u001b[36m121\u001b[0m - \u001b[1mTarget dataset number of cells - train: (1800,), valid: (450,), test: (0,).\u001b[0m\n",
      "\u001b[32m2024-10-08 12:21:39.763\u001b[0m | \u001b[1mINFO    \u001b[0m | \u001b[36mcmonge.datasets.single_loader\u001b[0m:\u001b[36msplitter\u001b[0m:\u001b[36m124\u001b[0m - \u001b[1mControl dataset number of cells - train: (8796,), valid: (2199,), test: (0,).\u001b[0m\n",
      "\u001b[32m2024-10-08 12:21:39.763\u001b[0m | \u001b[1mINFO    \u001b[0m | \u001b[36mcmonge.datasets.single_loader\u001b[0m:\u001b[36msplitter\u001b[0m:\u001b[36m127\u001b[0m - \u001b[1mSplitting finished.\u001b[0m\n",
      "\u001b[32m2024-10-08 12:21:39.764\u001b[0m | \u001b[1mINFO    \u001b[0m | \u001b[36mcmonge.datasets.conditional_loader\u001b[0m:\u001b[36msetup_single_loader\u001b[0m:\u001b[36m81\u001b[0m - \u001b[1mSetting up datamodules for decitabine\u001b[0m\n",
      "\u001b[32m2024-10-08 12:21:39.956\u001b[0m | \u001b[1mINFO    \u001b[0m | \u001b[36mcmonge.datasets.single_loader\u001b[0m:\u001b[36msplitter\u001b[0m:\u001b[36m80\u001b[0m - \u001b[1mSplitting dataset started.\u001b[0m\n",
      "\u001b[32m2024-10-08 12:21:39.975\u001b[0m | \u001b[1mINFO    \u001b[0m | \u001b[36mcmonge.datasets.single_loader\u001b[0m:\u001b[36msplitter\u001b[0m:\u001b[36m121\u001b[0m - \u001b[1mTarget dataset number of cells - train: (2118,), valid: (530,), test: (0,).\u001b[0m\n",
      "\u001b[32m2024-10-08 12:21:39.976\u001b[0m | \u001b[1mINFO    \u001b[0m | \u001b[36mcmonge.datasets.single_loader\u001b[0m:\u001b[36msplitter\u001b[0m:\u001b[36m124\u001b[0m - \u001b[1mControl dataset number of cells - train: (8796,), valid: (2199,), test: (0,).\u001b[0m\n",
      "\u001b[32m2024-10-08 12:21:39.977\u001b[0m | \u001b[1mINFO    \u001b[0m | \u001b[36mcmonge.datasets.single_loader\u001b[0m:\u001b[36msplitter\u001b[0m:\u001b[36m127\u001b[0m - \u001b[1mSplitting finished.\u001b[0m\n",
      "\u001b[32m2024-10-08 12:21:39.978\u001b[0m | \u001b[1mINFO    \u001b[0m | \u001b[36mcmonge.datasets.conditional_loader\u001b[0m:\u001b[36msetup_single_loader\u001b[0m:\u001b[36m81\u001b[0m - \u001b[1mSetting up datamodules for dexamethasone\u001b[0m\n",
      "\u001b[32m2024-10-08 12:21:40.153\u001b[0m | \u001b[1mINFO    \u001b[0m | \u001b[36mcmonge.datasets.single_loader\u001b[0m:\u001b[36msplitter\u001b[0m:\u001b[36m80\u001b[0m - \u001b[1mSplitting dataset started.\u001b[0m\n",
      "\u001b[32m2024-10-08 12:21:40.170\u001b[0m | \u001b[1mINFO    \u001b[0m | \u001b[36mcmonge.datasets.single_loader\u001b[0m:\u001b[36msplitter\u001b[0m:\u001b[36m121\u001b[0m - \u001b[1mTarget dataset number of cells - train: (2236,), valid: (560,), test: (0,).\u001b[0m\n",
      "\u001b[32m2024-10-08 12:21:40.171\u001b[0m | \u001b[1mINFO    \u001b[0m | \u001b[36mcmonge.datasets.single_loader\u001b[0m:\u001b[36msplitter\u001b[0m:\u001b[36m124\u001b[0m - \u001b[1mControl dataset number of cells - train: (8796,), valid: (2199,), test: (0,).\u001b[0m\n",
      "\u001b[32m2024-10-08 12:21:40.171\u001b[0m | \u001b[1mINFO    \u001b[0m | \u001b[36mcmonge.datasets.single_loader\u001b[0m:\u001b[36msplitter\u001b[0m:\u001b[36m127\u001b[0m - \u001b[1mSplitting finished.\u001b[0m\n",
      "\u001b[32m2024-10-08 12:21:40.173\u001b[0m | \u001b[1mINFO    \u001b[0m | \u001b[36mcmonge.datasets.conditional_loader\u001b[0m:\u001b[36msetup_single_loader\u001b[0m:\u001b[36m81\u001b[0m - \u001b[1mSetting up datamodules for erlotinib\u001b[0m\n",
      "\u001b[32m2024-10-08 12:21:40.345\u001b[0m | \u001b[1mINFO    \u001b[0m | \u001b[36mcmonge.datasets.single_loader\u001b[0m:\u001b[36msplitter\u001b[0m:\u001b[36m80\u001b[0m - \u001b[1mSplitting dataset started.\u001b[0m\n",
      "\u001b[32m2024-10-08 12:21:40.361\u001b[0m | \u001b[1mINFO    \u001b[0m | \u001b[36mcmonge.datasets.single_loader\u001b[0m:\u001b[36msplitter\u001b[0m:\u001b[36m121\u001b[0m - \u001b[1mTarget dataset number of cells - train: (1924,), valid: (482,), test: (0,).\u001b[0m\n",
      "\u001b[32m2024-10-08 12:21:40.362\u001b[0m | \u001b[1mINFO    \u001b[0m | \u001b[36mcmonge.datasets.single_loader\u001b[0m:\u001b[36msplitter\u001b[0m:\u001b[36m124\u001b[0m - \u001b[1mControl dataset number of cells - train: (8796,), valid: (2199,), test: (0,).\u001b[0m\n",
      "\u001b[32m2024-10-08 12:21:40.363\u001b[0m | \u001b[1mINFO    \u001b[0m | \u001b[36mcmonge.datasets.single_loader\u001b[0m:\u001b[36msplitter\u001b[0m:\u001b[36m127\u001b[0m - \u001b[1mSplitting finished.\u001b[0m\n",
      "\u001b[32m2024-10-08 12:21:40.364\u001b[0m | \u001b[1mINFO    \u001b[0m | \u001b[36mcmonge.datasets.conditional_loader\u001b[0m:\u001b[36msetup_single_loader\u001b[0m:\u001b[36m81\u001b[0m - \u001b[1mSetting up datamodules for everolimus\u001b[0m\n",
      "\u001b[32m2024-10-08 12:21:40.544\u001b[0m | \u001b[1mINFO    \u001b[0m | \u001b[36mcmonge.datasets.single_loader\u001b[0m:\u001b[36msplitter\u001b[0m:\u001b[36m80\u001b[0m - \u001b[1mSplitting dataset started.\u001b[0m\n",
      "\u001b[32m2024-10-08 12:21:40.559\u001b[0m | \u001b[1mINFO    \u001b[0m | \u001b[36mcmonge.datasets.single_loader\u001b[0m:\u001b[36msplitter\u001b[0m:\u001b[36m121\u001b[0m - \u001b[1mTarget dataset number of cells - train: (2073,), valid: (519,), test: (0,).\u001b[0m\n",
      "\u001b[32m2024-10-08 12:21:40.560\u001b[0m | \u001b[1mINFO    \u001b[0m | \u001b[36mcmonge.datasets.single_loader\u001b[0m:\u001b[36msplitter\u001b[0m:\u001b[36m124\u001b[0m - \u001b[1mControl dataset number of cells - train: (8796,), valid: (2199,), test: (0,).\u001b[0m\n",
      "\u001b[32m2024-10-08 12:21:40.561\u001b[0m | \u001b[1mINFO    \u001b[0m | \u001b[36mcmonge.datasets.single_loader\u001b[0m:\u001b[36msplitter\u001b[0m:\u001b[36m127\u001b[0m - \u001b[1mSplitting finished.\u001b[0m\n",
      "\u001b[32m2024-10-08 12:21:40.562\u001b[0m | \u001b[1mINFO    \u001b[0m | \u001b[36mcmonge.datasets.conditional_loader\u001b[0m:\u001b[36msetup_single_loader\u001b[0m:\u001b[36m81\u001b[0m - \u001b[1mSetting up datamodules for hydroxyurea\u001b[0m\n",
      "\u001b[32m2024-10-08 12:21:40.754\u001b[0m | \u001b[1mINFO    \u001b[0m | \u001b[36mcmonge.datasets.single_loader\u001b[0m:\u001b[36msplitter\u001b[0m:\u001b[36m80\u001b[0m - \u001b[1mSplitting dataset started.\u001b[0m\n",
      "\u001b[32m2024-10-08 12:21:40.770\u001b[0m | \u001b[1mINFO    \u001b[0m | \u001b[36mcmonge.datasets.single_loader\u001b[0m:\u001b[36msplitter\u001b[0m:\u001b[36m121\u001b[0m - \u001b[1mTarget dataset number of cells - train: (2172,), valid: (543,), test: (0,).\u001b[0m\n",
      "\u001b[32m2024-10-08 12:21:40.771\u001b[0m | \u001b[1mINFO    \u001b[0m | \u001b[36mcmonge.datasets.single_loader\u001b[0m:\u001b[36msplitter\u001b[0m:\u001b[36m124\u001b[0m - \u001b[1mControl dataset number of cells - train: (8796,), valid: (2199,), test: (0,).\u001b[0m\n",
      "\u001b[32m2024-10-08 12:21:40.773\u001b[0m | \u001b[1mINFO    \u001b[0m | \u001b[36mcmonge.datasets.single_loader\u001b[0m:\u001b[36msplitter\u001b[0m:\u001b[36m127\u001b[0m - \u001b[1mSplitting finished.\u001b[0m\n",
      "\u001b[32m2024-10-08 12:21:40.774\u001b[0m | \u001b[1mINFO    \u001b[0m | \u001b[36mcmonge.datasets.conditional_loader\u001b[0m:\u001b[36msetup_single_loader\u001b[0m:\u001b[36m81\u001b[0m - \u001b[1mSetting up datamodules for imatinib\u001b[0m\n",
      "\u001b[32m2024-10-08 12:21:40.960\u001b[0m | \u001b[1mINFO    \u001b[0m | \u001b[36mcmonge.datasets.single_loader\u001b[0m:\u001b[36msplitter\u001b[0m:\u001b[36m80\u001b[0m - \u001b[1mSplitting dataset started.\u001b[0m\n",
      "\u001b[32m2024-10-08 12:21:40.977\u001b[0m | \u001b[1mINFO    \u001b[0m | \u001b[36mcmonge.datasets.single_loader\u001b[0m:\u001b[36msplitter\u001b[0m:\u001b[36m121\u001b[0m - \u001b[1mTarget dataset number of cells - train: (2104,), valid: (527,), test: (0,).\u001b[0m\n",
      "\u001b[32m2024-10-08 12:21:40.978\u001b[0m | \u001b[1mINFO    \u001b[0m | \u001b[36mcmonge.datasets.single_loader\u001b[0m:\u001b[36msplitter\u001b[0m:\u001b[36m124\u001b[0m - \u001b[1mControl dataset number of cells - train: (8796,), valid: (2199,), test: (0,).\u001b[0m\n",
      "\u001b[32m2024-10-08 12:21:40.979\u001b[0m | \u001b[1mINFO    \u001b[0m | \u001b[36mcmonge.datasets.single_loader\u001b[0m:\u001b[36msplitter\u001b[0m:\u001b[36m127\u001b[0m - \u001b[1mSplitting finished.\u001b[0m\n",
      "\u001b[32m2024-10-08 12:21:40.980\u001b[0m | \u001b[1mINFO    \u001b[0m | \u001b[36mcmonge.datasets.conditional_loader\u001b[0m:\u001b[36msetup_single_loader\u001b[0m:\u001b[36m81\u001b[0m - \u001b[1mSetting up datamodules for ixazomib\u001b[0m\n",
      "\u001b[32m2024-10-08 12:21:41.160\u001b[0m | \u001b[1mINFO    \u001b[0m | \u001b[36mcmonge.datasets.single_loader\u001b[0m:\u001b[36msplitter\u001b[0m:\u001b[36m80\u001b[0m - \u001b[1mSplitting dataset started.\u001b[0m\n",
      "\u001b[32m2024-10-08 12:21:41.175\u001b[0m | \u001b[1mINFO    \u001b[0m | \u001b[36mcmonge.datasets.single_loader\u001b[0m:\u001b[36msplitter\u001b[0m:\u001b[36m121\u001b[0m - \u001b[1mTarget dataset number of cells - train: (2011,), valid: (503,), test: (0,).\u001b[0m\n",
      "\u001b[32m2024-10-08 12:21:41.176\u001b[0m | \u001b[1mINFO    \u001b[0m | \u001b[36mcmonge.datasets.single_loader\u001b[0m:\u001b[36msplitter\u001b[0m:\u001b[36m124\u001b[0m - \u001b[1mControl dataset number of cells - train: (8796,), valid: (2199,), test: (0,).\u001b[0m\n",
      "\u001b[32m2024-10-08 12:21:41.177\u001b[0m | \u001b[1mINFO    \u001b[0m | \u001b[36mcmonge.datasets.single_loader\u001b[0m:\u001b[36msplitter\u001b[0m:\u001b[36m127\u001b[0m - \u001b[1mSplitting finished.\u001b[0m\n",
      "\u001b[32m2024-10-08 12:21:41.178\u001b[0m | \u001b[1mINFO    \u001b[0m | \u001b[36mcmonge.datasets.conditional_loader\u001b[0m:\u001b[36msetup_single_loader\u001b[0m:\u001b[36m81\u001b[0m - \u001b[1mSetting up datamodules for ixazomib_lenalidomide_dexamethasone\u001b[0m\n",
      "\u001b[32m2024-10-08 12:21:41.348\u001b[0m | \u001b[1mINFO    \u001b[0m | \u001b[36mcmonge.datasets.single_loader\u001b[0m:\u001b[36msplitter\u001b[0m:\u001b[36m80\u001b[0m - \u001b[1mSplitting dataset started.\u001b[0m\n",
      "\u001b[32m2024-10-08 12:21:41.362\u001b[0m | \u001b[1mINFO    \u001b[0m | \u001b[36mcmonge.datasets.single_loader\u001b[0m:\u001b[36msplitter\u001b[0m:\u001b[36m121\u001b[0m - \u001b[1mTarget dataset number of cells - train: (2017,), valid: (505,), test: (0,).\u001b[0m\n",
      "\u001b[32m2024-10-08 12:21:41.362\u001b[0m | \u001b[1mINFO    \u001b[0m | \u001b[36mcmonge.datasets.single_loader\u001b[0m:\u001b[36msplitter\u001b[0m:\u001b[36m124\u001b[0m - \u001b[1mControl dataset number of cells - train: (8796,), valid: (2199,), test: (0,).\u001b[0m\n",
      "\u001b[32m2024-10-08 12:21:41.363\u001b[0m | \u001b[1mINFO    \u001b[0m | \u001b[36mcmonge.datasets.single_loader\u001b[0m:\u001b[36msplitter\u001b[0m:\u001b[36m127\u001b[0m - \u001b[1mSplitting finished.\u001b[0m\n",
      "\u001b[32m2024-10-08 12:21:41.364\u001b[0m | \u001b[1mINFO    \u001b[0m | \u001b[36mcmonge.datasets.conditional_loader\u001b[0m:\u001b[36msetup_single_loader\u001b[0m:\u001b[36m81\u001b[0m - \u001b[1mSetting up datamodules for lenalidomide\u001b[0m\n",
      "\u001b[32m2024-10-08 12:21:41.546\u001b[0m | \u001b[1mINFO    \u001b[0m | \u001b[36mcmonge.datasets.single_loader\u001b[0m:\u001b[36msplitter\u001b[0m:\u001b[36m80\u001b[0m - \u001b[1mSplitting dataset started.\u001b[0m\n",
      "\u001b[32m2024-10-08 12:21:41.561\u001b[0m | \u001b[1mINFO    \u001b[0m | \u001b[36mcmonge.datasets.single_loader\u001b[0m:\u001b[36msplitter\u001b[0m:\u001b[36m121\u001b[0m - \u001b[1mTarget dataset number of cells - train: (2019,), valid: (505,), test: (0,).\u001b[0m\n",
      "\u001b[32m2024-10-08 12:21:41.562\u001b[0m | \u001b[1mINFO    \u001b[0m | \u001b[36mcmonge.datasets.single_loader\u001b[0m:\u001b[36msplitter\u001b[0m:\u001b[36m124\u001b[0m - \u001b[1mControl dataset number of cells - train: (8796,), valid: (2199,), test: (0,).\u001b[0m\n",
      "\u001b[32m2024-10-08 12:21:41.563\u001b[0m | \u001b[1mINFO    \u001b[0m | \u001b[36mcmonge.datasets.single_loader\u001b[0m:\u001b[36msplitter\u001b[0m:\u001b[36m127\u001b[0m - \u001b[1mSplitting finished.\u001b[0m\n",
      "\u001b[32m2024-10-08 12:21:41.564\u001b[0m | \u001b[1mINFO    \u001b[0m | \u001b[36mcmonge.datasets.conditional_loader\u001b[0m:\u001b[36msetup_single_loader\u001b[0m:\u001b[36m81\u001b[0m - \u001b[1mSetting up datamodules for melphalan\u001b[0m\n",
      "\u001b[32m2024-10-08 12:21:41.748\u001b[0m | \u001b[1mINFO    \u001b[0m | \u001b[36mcmonge.datasets.single_loader\u001b[0m:\u001b[36msplitter\u001b[0m:\u001b[36m80\u001b[0m - \u001b[1mSplitting dataset started.\u001b[0m\n",
      "\u001b[32m2024-10-08 12:21:41.761\u001b[0m | \u001b[1mINFO    \u001b[0m | \u001b[36mcmonge.datasets.single_loader\u001b[0m:\u001b[36msplitter\u001b[0m:\u001b[36m121\u001b[0m - \u001b[1mTarget dataset number of cells - train: (1881,), valid: (471,), test: (0,).\u001b[0m\n",
      "\u001b[32m2024-10-08 12:21:41.762\u001b[0m | \u001b[1mINFO    \u001b[0m | \u001b[36mcmonge.datasets.single_loader\u001b[0m:\u001b[36msplitter\u001b[0m:\u001b[36m124\u001b[0m - \u001b[1mControl dataset number of cells - train: (8796,), valid: (2199,), test: (0,).\u001b[0m\n",
      "\u001b[32m2024-10-08 12:21:41.762\u001b[0m | \u001b[1mINFO    \u001b[0m | \u001b[36mcmonge.datasets.single_loader\u001b[0m:\u001b[36msplitter\u001b[0m:\u001b[36m127\u001b[0m - \u001b[1mSplitting finished.\u001b[0m\n",
      "\u001b[32m2024-10-08 12:21:41.764\u001b[0m | \u001b[1mINFO    \u001b[0m | \u001b[36mcmonge.datasets.conditional_loader\u001b[0m:\u001b[36msetup_single_loader\u001b[0m:\u001b[36m81\u001b[0m - \u001b[1mSetting up datamodules for midostaurin\u001b[0m\n",
      "\u001b[32m2024-10-08 12:21:41.955\u001b[0m | \u001b[1mINFO    \u001b[0m | \u001b[36mcmonge.datasets.single_loader\u001b[0m:\u001b[36msplitter\u001b[0m:\u001b[36m80\u001b[0m - \u001b[1mSplitting dataset started.\u001b[0m\n",
      "\u001b[32m2024-10-08 12:21:41.974\u001b[0m | \u001b[1mINFO    \u001b[0m | \u001b[36mcmonge.datasets.single_loader\u001b[0m:\u001b[36msplitter\u001b[0m:\u001b[36m121\u001b[0m - \u001b[1mTarget dataset number of cells - train: (1940,), valid: (485,), test: (0,).\u001b[0m\n",
      "\u001b[32m2024-10-08 12:21:41.975\u001b[0m | \u001b[1mINFO    \u001b[0m | \u001b[36mcmonge.datasets.single_loader\u001b[0m:\u001b[36msplitter\u001b[0m:\u001b[36m124\u001b[0m - \u001b[1mControl dataset number of cells - train: (8796,), valid: (2199,), test: (0,).\u001b[0m\n",
      "\u001b[32m2024-10-08 12:21:41.977\u001b[0m | \u001b[1mINFO    \u001b[0m | \u001b[36mcmonge.datasets.single_loader\u001b[0m:\u001b[36msplitter\u001b[0m:\u001b[36m127\u001b[0m - \u001b[1mSplitting finished.\u001b[0m\n",
      "\u001b[32m2024-10-08 12:21:41.978\u001b[0m | \u001b[1mINFO    \u001b[0m | \u001b[36mcmonge.datasets.conditional_loader\u001b[0m:\u001b[36msetup_single_loader\u001b[0m:\u001b[36m81\u001b[0m - \u001b[1mSetting up datamodules for mln2480\u001b[0m\n",
      "\u001b[32m2024-10-08 12:21:42.165\u001b[0m | \u001b[1mINFO    \u001b[0m | \u001b[36mcmonge.datasets.single_loader\u001b[0m:\u001b[36msplitter\u001b[0m:\u001b[36m80\u001b[0m - \u001b[1mSplitting dataset started.\u001b[0m\n",
      "\u001b[32m2024-10-08 12:21:42.183\u001b[0m | \u001b[1mINFO    \u001b[0m | \u001b[36mcmonge.datasets.single_loader\u001b[0m:\u001b[36msplitter\u001b[0m:\u001b[36m121\u001b[0m - \u001b[1mTarget dataset number of cells - train: (1893,), valid: (474,), test: (0,).\u001b[0m\n",
      "\u001b[32m2024-10-08 12:21:42.184\u001b[0m | \u001b[1mINFO    \u001b[0m | \u001b[36mcmonge.datasets.single_loader\u001b[0m:\u001b[36msplitter\u001b[0m:\u001b[36m124\u001b[0m - \u001b[1mControl dataset number of cells - train: (8796,), valid: (2199,), test: (0,).\u001b[0m\n",
      "\u001b[32m2024-10-08 12:21:42.185\u001b[0m | \u001b[1mINFO    \u001b[0m | \u001b[36mcmonge.datasets.single_loader\u001b[0m:\u001b[36msplitter\u001b[0m:\u001b[36m127\u001b[0m - \u001b[1mSplitting finished.\u001b[0m\n",
      "\u001b[32m2024-10-08 12:21:42.185\u001b[0m | \u001b[1mINFO    \u001b[0m | \u001b[36mcmonge.datasets.conditional_loader\u001b[0m:\u001b[36msetup_single_loader\u001b[0m:\u001b[36m81\u001b[0m - \u001b[1mSetting up datamodules for olaparib\u001b[0m\n",
      "\u001b[32m2024-10-08 12:21:42.384\u001b[0m | \u001b[1mINFO    \u001b[0m | \u001b[36mcmonge.datasets.single_loader\u001b[0m:\u001b[36msplitter\u001b[0m:\u001b[36m80\u001b[0m - \u001b[1mSplitting dataset started.\u001b[0m\n",
      "\u001b[32m2024-10-08 12:21:42.399\u001b[0m | \u001b[1mINFO    \u001b[0m | \u001b[36mcmonge.datasets.single_loader\u001b[0m:\u001b[36msplitter\u001b[0m:\u001b[36m121\u001b[0m - \u001b[1mTarget dataset number of cells - train: (2032,), valid: (508,), test: (0,).\u001b[0m\n",
      "\u001b[32m2024-10-08 12:21:42.400\u001b[0m | \u001b[1mINFO    \u001b[0m | \u001b[36mcmonge.datasets.single_loader\u001b[0m:\u001b[36msplitter\u001b[0m:\u001b[36m124\u001b[0m - \u001b[1mControl dataset number of cells - train: (8796,), valid: (2199,), test: (0,).\u001b[0m\n",
      "\u001b[32m2024-10-08 12:21:42.401\u001b[0m | \u001b[1mINFO    \u001b[0m | \u001b[36mcmonge.datasets.single_loader\u001b[0m:\u001b[36msplitter\u001b[0m:\u001b[36m127\u001b[0m - \u001b[1mSplitting finished.\u001b[0m\n",
      "\u001b[32m2024-10-08 12:21:42.402\u001b[0m | \u001b[1mINFO    \u001b[0m | \u001b[36mcmonge.datasets.conditional_loader\u001b[0m:\u001b[36msetup_single_loader\u001b[0m:\u001b[36m81\u001b[0m - \u001b[1mSetting up datamodules for paclitaxel\u001b[0m\n",
      "\u001b[32m2024-10-08 12:21:42.585\u001b[0m | \u001b[1mINFO    \u001b[0m | \u001b[36mcmonge.datasets.single_loader\u001b[0m:\u001b[36msplitter\u001b[0m:\u001b[36m80\u001b[0m - \u001b[1mSplitting dataset started.\u001b[0m\n",
      "\u001b[32m2024-10-08 12:21:42.600\u001b[0m | \u001b[1mINFO    \u001b[0m | \u001b[36mcmonge.datasets.single_loader\u001b[0m:\u001b[36msplitter\u001b[0m:\u001b[36m121\u001b[0m - \u001b[1mTarget dataset number of cells - train: (2108,), valid: (528,), test: (0,).\u001b[0m\n",
      "\u001b[32m2024-10-08 12:21:42.601\u001b[0m | \u001b[1mINFO    \u001b[0m | \u001b[36mcmonge.datasets.single_loader\u001b[0m:\u001b[36msplitter\u001b[0m:\u001b[36m124\u001b[0m - \u001b[1mControl dataset number of cells - train: (8796,), valid: (2199,), test: (0,).\u001b[0m\n",
      "\u001b[32m2024-10-08 12:21:42.602\u001b[0m | \u001b[1mINFO    \u001b[0m | \u001b[36mcmonge.datasets.single_loader\u001b[0m:\u001b[36msplitter\u001b[0m:\u001b[36m127\u001b[0m - \u001b[1mSplitting finished.\u001b[0m\n",
      "\u001b[32m2024-10-08 12:21:42.603\u001b[0m | \u001b[1mINFO    \u001b[0m | \u001b[36mcmonge.datasets.conditional_loader\u001b[0m:\u001b[36msetup_single_loader\u001b[0m:\u001b[36m81\u001b[0m - \u001b[1mSetting up datamodules for palbociclib\u001b[0m\n",
      "\u001b[32m2024-10-08 12:21:42.783\u001b[0m | \u001b[1mINFO    \u001b[0m | \u001b[36mcmonge.datasets.single_loader\u001b[0m:\u001b[36msplitter\u001b[0m:\u001b[36m80\u001b[0m - \u001b[1mSplitting dataset started.\u001b[0m\n",
      "\u001b[32m2024-10-08 12:21:42.796\u001b[0m | \u001b[1mINFO    \u001b[0m | \u001b[36mcmonge.datasets.single_loader\u001b[0m:\u001b[36msplitter\u001b[0m:\u001b[36m121\u001b[0m - \u001b[1mTarget dataset number of cells - train: (1857,), valid: (465,), test: (0,).\u001b[0m\n",
      "\u001b[32m2024-10-08 12:21:42.797\u001b[0m | \u001b[1mINFO    \u001b[0m | \u001b[36mcmonge.datasets.single_loader\u001b[0m:\u001b[36msplitter\u001b[0m:\u001b[36m124\u001b[0m - \u001b[1mControl dataset number of cells - train: (8796,), valid: (2199,), test: (0,).\u001b[0m\n",
      "\u001b[32m2024-10-08 12:21:42.798\u001b[0m | \u001b[1mINFO    \u001b[0m | \u001b[36mcmonge.datasets.single_loader\u001b[0m:\u001b[36msplitter\u001b[0m:\u001b[36m127\u001b[0m - \u001b[1mSplitting finished.\u001b[0m\n",
      "\u001b[32m2024-10-08 12:21:42.799\u001b[0m | \u001b[1mINFO    \u001b[0m | \u001b[36mcmonge.datasets.conditional_loader\u001b[0m:\u001b[36msetup_single_loader\u001b[0m:\u001b[36m81\u001b[0m - \u001b[1mSetting up datamodules for panobinostat\u001b[0m\n",
      "\u001b[32m2024-10-08 12:21:42.980\u001b[0m | \u001b[1mINFO    \u001b[0m | \u001b[36mcmonge.datasets.single_loader\u001b[0m:\u001b[36msplitter\u001b[0m:\u001b[36m80\u001b[0m - \u001b[1mSplitting dataset started.\u001b[0m\n",
      "\u001b[32m2024-10-08 12:21:42.994\u001b[0m | \u001b[1mINFO    \u001b[0m | \u001b[36mcmonge.datasets.single_loader\u001b[0m:\u001b[36msplitter\u001b[0m:\u001b[36m121\u001b[0m - \u001b[1mTarget dataset number of cells - train: (1993,), valid: (499,), test: (0,).\u001b[0m\n",
      "\u001b[32m2024-10-08 12:21:42.995\u001b[0m | \u001b[1mINFO    \u001b[0m | \u001b[36mcmonge.datasets.single_loader\u001b[0m:\u001b[36msplitter\u001b[0m:\u001b[36m124\u001b[0m - \u001b[1mControl dataset number of cells - train: (8796,), valid: (2199,), test: (0,).\u001b[0m\n",
      "\u001b[32m2024-10-08 12:21:42.995\u001b[0m | \u001b[1mINFO    \u001b[0m | \u001b[36mcmonge.datasets.single_loader\u001b[0m:\u001b[36msplitter\u001b[0m:\u001b[36m127\u001b[0m - \u001b[1mSplitting finished.\u001b[0m\n",
      "\u001b[32m2024-10-08 12:21:42.996\u001b[0m | \u001b[1mINFO    \u001b[0m | \u001b[36mcmonge.datasets.conditional_loader\u001b[0m:\u001b[36msetup_single_loader\u001b[0m:\u001b[36m81\u001b[0m - \u001b[1mSetting up datamodules for pomalidomide_carfilzomib_dexamethasone\u001b[0m\n",
      "\u001b[32m2024-10-08 12:21:43.169\u001b[0m | \u001b[1mINFO    \u001b[0m | \u001b[36mcmonge.datasets.single_loader\u001b[0m:\u001b[36msplitter\u001b[0m:\u001b[36m80\u001b[0m - \u001b[1mSplitting dataset started.\u001b[0m\n",
      "\u001b[32m2024-10-08 12:21:43.184\u001b[0m | \u001b[1mINFO    \u001b[0m | \u001b[36mcmonge.datasets.single_loader\u001b[0m:\u001b[36msplitter\u001b[0m:\u001b[36m121\u001b[0m - \u001b[1mTarget dataset number of cells - train: (2036,), valid: (509,), test: (0,).\u001b[0m\n",
      "\u001b[32m2024-10-08 12:21:43.184\u001b[0m | \u001b[1mINFO    \u001b[0m | \u001b[36mcmonge.datasets.single_loader\u001b[0m:\u001b[36msplitter\u001b[0m:\u001b[36m124\u001b[0m - \u001b[1mControl dataset number of cells - train: (8796,), valid: (2199,), test: (0,).\u001b[0m\n",
      "\u001b[32m2024-10-08 12:21:43.185\u001b[0m | \u001b[1mINFO    \u001b[0m | \u001b[36mcmonge.datasets.single_loader\u001b[0m:\u001b[36msplitter\u001b[0m:\u001b[36m127\u001b[0m - \u001b[1mSplitting finished.\u001b[0m\n",
      "\u001b[32m2024-10-08 12:21:43.186\u001b[0m | \u001b[1mINFO    \u001b[0m | \u001b[36mcmonge.datasets.conditional_loader\u001b[0m:\u001b[36msetup_single_loader\u001b[0m:\u001b[36m81\u001b[0m - \u001b[1mSetting up datamodules for regorafenib\u001b[0m\n",
      "\u001b[32m2024-10-08 12:21:43.351\u001b[0m | \u001b[1mINFO    \u001b[0m | \u001b[36mcmonge.datasets.single_loader\u001b[0m:\u001b[36msplitter\u001b[0m:\u001b[36m80\u001b[0m - \u001b[1mSplitting dataset started.\u001b[0m\n",
      "\u001b[32m2024-10-08 12:21:43.366\u001b[0m | \u001b[1mINFO    \u001b[0m | \u001b[36mcmonge.datasets.single_loader\u001b[0m:\u001b[36msplitter\u001b[0m:\u001b[36m121\u001b[0m - \u001b[1mTarget dataset number of cells - train: (2019,), valid: (505,), test: (0,).\u001b[0m\n",
      "\u001b[32m2024-10-08 12:21:43.367\u001b[0m | \u001b[1mINFO    \u001b[0m | \u001b[36mcmonge.datasets.single_loader\u001b[0m:\u001b[36msplitter\u001b[0m:\u001b[36m124\u001b[0m - \u001b[1mControl dataset number of cells - train: (8796,), valid: (2199,), test: (0,).\u001b[0m\n",
      "\u001b[32m2024-10-08 12:21:43.369\u001b[0m | \u001b[1mINFO    \u001b[0m | \u001b[36mcmonge.datasets.single_loader\u001b[0m:\u001b[36msplitter\u001b[0m:\u001b[36m127\u001b[0m - \u001b[1mSplitting finished.\u001b[0m\n",
      "\u001b[32m2024-10-08 12:21:43.370\u001b[0m | \u001b[1mINFO    \u001b[0m | \u001b[36mcmonge.datasets.conditional_loader\u001b[0m:\u001b[36msetup_single_loader\u001b[0m:\u001b[36m81\u001b[0m - \u001b[1mSetting up datamodules for sorafenib\u001b[0m\n",
      "\u001b[32m2024-10-08 12:21:43.549\u001b[0m | \u001b[1mINFO    \u001b[0m | \u001b[36mcmonge.datasets.single_loader\u001b[0m:\u001b[36msplitter\u001b[0m:\u001b[36m80\u001b[0m - \u001b[1mSplitting dataset started.\u001b[0m\n",
      "\u001b[32m2024-10-08 12:21:43.566\u001b[0m | \u001b[1mINFO    \u001b[0m | \u001b[36mcmonge.datasets.single_loader\u001b[0m:\u001b[36msplitter\u001b[0m:\u001b[36m121\u001b[0m - \u001b[1mTarget dataset number of cells - train: (2210,), valid: (553,), test: (0,).\u001b[0m\n",
      "\u001b[32m2024-10-08 12:21:43.567\u001b[0m | \u001b[1mINFO    \u001b[0m | \u001b[36mcmonge.datasets.single_loader\u001b[0m:\u001b[36msplitter\u001b[0m:\u001b[36m124\u001b[0m - \u001b[1mControl dataset number of cells - train: (8796,), valid: (2199,), test: (0,).\u001b[0m\n",
      "\u001b[32m2024-10-08 12:21:43.568\u001b[0m | \u001b[1mINFO    \u001b[0m | \u001b[36mcmonge.datasets.single_loader\u001b[0m:\u001b[36msplitter\u001b[0m:\u001b[36m127\u001b[0m - \u001b[1mSplitting finished.\u001b[0m\n",
      "\u001b[32m2024-10-08 12:21:43.569\u001b[0m | \u001b[1mINFO    \u001b[0m | \u001b[36mcmonge.datasets.conditional_loader\u001b[0m:\u001b[36msetup_single_loader\u001b[0m:\u001b[36m81\u001b[0m - \u001b[1mSetting up datamodules for staurosporine\u001b[0m\n",
      "\u001b[32m2024-10-08 12:21:43.750\u001b[0m | \u001b[1mINFO    \u001b[0m | \u001b[36mcmonge.datasets.single_loader\u001b[0m:\u001b[36msplitter\u001b[0m:\u001b[36m80\u001b[0m - \u001b[1mSplitting dataset started.\u001b[0m\n",
      "\u001b[32m2024-10-08 12:21:43.764\u001b[0m | \u001b[1mINFO    \u001b[0m | \u001b[36mcmonge.datasets.single_loader\u001b[0m:\u001b[36msplitter\u001b[0m:\u001b[36m121\u001b[0m - \u001b[1mTarget dataset number of cells - train: (1048,), valid: (262,), test: (0,).\u001b[0m\n",
      "\u001b[32m2024-10-08 12:21:43.765\u001b[0m | \u001b[1mINFO    \u001b[0m | \u001b[36mcmonge.datasets.single_loader\u001b[0m:\u001b[36msplitter\u001b[0m:\u001b[36m124\u001b[0m - \u001b[1mControl dataset number of cells - train: (8796,), valid: (2199,), test: (0,).\u001b[0m\n",
      "\u001b[32m2024-10-08 12:21:43.765\u001b[0m | \u001b[1mINFO    \u001b[0m | \u001b[36mcmonge.datasets.single_loader\u001b[0m:\u001b[36msplitter\u001b[0m:\u001b[36m127\u001b[0m - \u001b[1mSplitting finished.\u001b[0m\n",
      "\u001b[32m2024-10-08 12:21:43.767\u001b[0m | \u001b[1mINFO    \u001b[0m | \u001b[36mcmonge.datasets.conditional_loader\u001b[0m:\u001b[36msetup_single_loader\u001b[0m:\u001b[36m81\u001b[0m - \u001b[1mSetting up datamodules for temozolomide\u001b[0m\n",
      "\u001b[32m2024-10-08 12:21:43.950\u001b[0m | \u001b[1mINFO    \u001b[0m | \u001b[36mcmonge.datasets.single_loader\u001b[0m:\u001b[36msplitter\u001b[0m:\u001b[36m80\u001b[0m - \u001b[1mSplitting dataset started.\u001b[0m\n",
      "\u001b[32m2024-10-08 12:21:43.964\u001b[0m | \u001b[1mINFO    \u001b[0m | \u001b[36mcmonge.datasets.single_loader\u001b[0m:\u001b[36msplitter\u001b[0m:\u001b[36m121\u001b[0m - \u001b[1mTarget dataset number of cells - train: (2010,), valid: (503,), test: (0,).\u001b[0m\n",
      "\u001b[32m2024-10-08 12:21:43.966\u001b[0m | \u001b[1mINFO    \u001b[0m | \u001b[36mcmonge.datasets.single_loader\u001b[0m:\u001b[36msplitter\u001b[0m:\u001b[36m124\u001b[0m - \u001b[1mControl dataset number of cells - train: (8796,), valid: (2199,), test: (0,).\u001b[0m\n",
      "\u001b[32m2024-10-08 12:21:43.967\u001b[0m | \u001b[1mINFO    \u001b[0m | \u001b[36mcmonge.datasets.single_loader\u001b[0m:\u001b[36msplitter\u001b[0m:\u001b[36m127\u001b[0m - \u001b[1mSplitting finished.\u001b[0m\n",
      "\u001b[32m2024-10-08 12:21:43.969\u001b[0m | \u001b[1mINFO    \u001b[0m | \u001b[36mcmonge.datasets.conditional_loader\u001b[0m:\u001b[36msetup_single_loader\u001b[0m:\u001b[36m81\u001b[0m - \u001b[1mSetting up datamodules for trametinib\u001b[0m\n",
      "\u001b[32m2024-10-08 12:21:44.152\u001b[0m | \u001b[1mINFO    \u001b[0m | \u001b[36mcmonge.datasets.single_loader\u001b[0m:\u001b[36msplitter\u001b[0m:\u001b[36m80\u001b[0m - \u001b[1mSplitting dataset started.\u001b[0m\n",
      "\u001b[32m2024-10-08 12:21:44.166\u001b[0m | \u001b[1mINFO    \u001b[0m | \u001b[36mcmonge.datasets.single_loader\u001b[0m:\u001b[36msplitter\u001b[0m:\u001b[36m121\u001b[0m - \u001b[1mTarget dataset number of cells - train: (2109,), valid: (528,), test: (0,).\u001b[0m\n",
      "\u001b[32m2024-10-08 12:21:44.167\u001b[0m | \u001b[1mINFO    \u001b[0m | \u001b[36mcmonge.datasets.single_loader\u001b[0m:\u001b[36msplitter\u001b[0m:\u001b[36m124\u001b[0m - \u001b[1mControl dataset number of cells - train: (8796,), valid: (2199,), test: (0,).\u001b[0m\n",
      "\u001b[32m2024-10-08 12:21:44.168\u001b[0m | \u001b[1mINFO    \u001b[0m | \u001b[36mcmonge.datasets.single_loader\u001b[0m:\u001b[36msplitter\u001b[0m:\u001b[36m127\u001b[0m - \u001b[1mSplitting finished.\u001b[0m\n",
      "\u001b[32m2024-10-08 12:21:44.169\u001b[0m | \u001b[1mINFO    \u001b[0m | \u001b[36mcmonge.datasets.conditional_loader\u001b[0m:\u001b[36msetup_single_loader\u001b[0m:\u001b[36m81\u001b[0m - \u001b[1mSetting up datamodules for trametinib_dabrafenib\u001b[0m\n",
      "\u001b[32m2024-10-08 12:21:44.346\u001b[0m | \u001b[1mINFO    \u001b[0m | \u001b[36mcmonge.datasets.single_loader\u001b[0m:\u001b[36msplitter\u001b[0m:\u001b[36m80\u001b[0m - \u001b[1mSplitting dataset started.\u001b[0m\n",
      "\u001b[32m2024-10-08 12:21:44.362\u001b[0m | \u001b[1mINFO    \u001b[0m | \u001b[36mcmonge.datasets.single_loader\u001b[0m:\u001b[36msplitter\u001b[0m:\u001b[36m121\u001b[0m - \u001b[1mTarget dataset number of cells - train: (2366,), valid: (592,), test: (0,).\u001b[0m\n",
      "\u001b[32m2024-10-08 12:21:44.363\u001b[0m | \u001b[1mINFO    \u001b[0m | \u001b[36mcmonge.datasets.single_loader\u001b[0m:\u001b[36msplitter\u001b[0m:\u001b[36m124\u001b[0m - \u001b[1mControl dataset number of cells - train: (8796,), valid: (2199,), test: (0,).\u001b[0m\n",
      "\u001b[32m2024-10-08 12:21:44.364\u001b[0m | \u001b[1mINFO    \u001b[0m | \u001b[36mcmonge.datasets.single_loader\u001b[0m:\u001b[36msplitter\u001b[0m:\u001b[36m127\u001b[0m - \u001b[1mSplitting finished.\u001b[0m\n",
      "\u001b[32m2024-10-08 12:21:44.365\u001b[0m | \u001b[1mINFO    \u001b[0m | \u001b[36mcmonge.datasets.conditional_loader\u001b[0m:\u001b[36msetup_single_loader\u001b[0m:\u001b[36m81\u001b[0m - \u001b[1mSetting up datamodules for trametinib_erlotinib\u001b[0m\n",
      "\u001b[32m2024-10-08 12:21:44.547\u001b[0m | \u001b[1mINFO    \u001b[0m | \u001b[36mcmonge.datasets.single_loader\u001b[0m:\u001b[36msplitter\u001b[0m:\u001b[36m80\u001b[0m - \u001b[1mSplitting dataset started.\u001b[0m\n",
      "\u001b[32m2024-10-08 12:21:44.571\u001b[0m | \u001b[1mINFO    \u001b[0m | \u001b[36mcmonge.datasets.single_loader\u001b[0m:\u001b[36msplitter\u001b[0m:\u001b[36m121\u001b[0m - \u001b[1mTarget dataset number of cells - train: (1961,), valid: (491,), test: (0,).\u001b[0m\n",
      "\u001b[32m2024-10-08 12:21:44.572\u001b[0m | \u001b[1mINFO    \u001b[0m | \u001b[36mcmonge.datasets.single_loader\u001b[0m:\u001b[36msplitter\u001b[0m:\u001b[36m124\u001b[0m - \u001b[1mControl dataset number of cells - train: (8796,), valid: (2199,), test: (0,).\u001b[0m\n",
      "\u001b[32m2024-10-08 12:21:44.574\u001b[0m | \u001b[1mINFO    \u001b[0m | \u001b[36mcmonge.datasets.single_loader\u001b[0m:\u001b[36msplitter\u001b[0m:\u001b[36m127\u001b[0m - \u001b[1mSplitting finished.\u001b[0m\n",
      "\u001b[32m2024-10-08 12:21:44.576\u001b[0m | \u001b[1mINFO    \u001b[0m | \u001b[36mcmonge.datasets.conditional_loader\u001b[0m:\u001b[36msetup_single_loader\u001b[0m:\u001b[36m81\u001b[0m - \u001b[1mSetting up datamodules for trametinib_midostaurin\u001b[0m\n",
      "\u001b[32m2024-10-08 12:21:44.776\u001b[0m | \u001b[1mINFO    \u001b[0m | \u001b[36mcmonge.datasets.single_loader\u001b[0m:\u001b[36msplitter\u001b[0m:\u001b[36m80\u001b[0m - \u001b[1mSplitting dataset started.\u001b[0m\n",
      "\u001b[32m2024-10-08 12:21:44.789\u001b[0m | \u001b[1mINFO    \u001b[0m | \u001b[36mcmonge.datasets.single_loader\u001b[0m:\u001b[36msplitter\u001b[0m:\u001b[36m121\u001b[0m - \u001b[1mTarget dataset number of cells - train: (1768,), valid: (443,), test: (0,).\u001b[0m\n",
      "\u001b[32m2024-10-08 12:21:44.790\u001b[0m | \u001b[1mINFO    \u001b[0m | \u001b[36mcmonge.datasets.single_loader\u001b[0m:\u001b[36msplitter\u001b[0m:\u001b[36m124\u001b[0m - \u001b[1mControl dataset number of cells - train: (8796,), valid: (2199,), test: (0,).\u001b[0m\n",
      "\u001b[32m2024-10-08 12:21:44.791\u001b[0m | \u001b[1mINFO    \u001b[0m | \u001b[36mcmonge.datasets.single_loader\u001b[0m:\u001b[36msplitter\u001b[0m:\u001b[36m127\u001b[0m - \u001b[1mSplitting finished.\u001b[0m\n",
      "\u001b[32m2024-10-08 12:21:44.792\u001b[0m | \u001b[1mINFO    \u001b[0m | \u001b[36mcmonge.datasets.conditional_loader\u001b[0m:\u001b[36msetup_single_loader\u001b[0m:\u001b[36m81\u001b[0m - \u001b[1mSetting up datamodules for trametinib_panobinostat\u001b[0m\n",
      "\u001b[32m2024-10-08 12:21:44.969\u001b[0m | \u001b[1mINFO    \u001b[0m | \u001b[36mcmonge.datasets.single_loader\u001b[0m:\u001b[36msplitter\u001b[0m:\u001b[36m80\u001b[0m - \u001b[1mSplitting dataset started.\u001b[0m\n",
      "\u001b[32m2024-10-08 12:21:44.983\u001b[0m | \u001b[1mINFO    \u001b[0m | \u001b[36mcmonge.datasets.single_loader\u001b[0m:\u001b[36msplitter\u001b[0m:\u001b[36m121\u001b[0m - \u001b[1mTarget dataset number of cells - train: (1901,), valid: (476,), test: (0,).\u001b[0m\n",
      "\u001b[32m2024-10-08 12:21:44.984\u001b[0m | \u001b[1mINFO    \u001b[0m | \u001b[36mcmonge.datasets.single_loader\u001b[0m:\u001b[36msplitter\u001b[0m:\u001b[36m124\u001b[0m - \u001b[1mControl dataset number of cells - train: (8796,), valid: (2199,), test: (0,).\u001b[0m\n",
      "\u001b[32m2024-10-08 12:21:44.985\u001b[0m | \u001b[1mINFO    \u001b[0m | \u001b[36mcmonge.datasets.single_loader\u001b[0m:\u001b[36msplitter\u001b[0m:\u001b[36m127\u001b[0m - \u001b[1mSplitting finished.\u001b[0m\n",
      "\u001b[32m2024-10-08 12:21:44.986\u001b[0m | \u001b[1mINFO    \u001b[0m | \u001b[36mcmonge.datasets.conditional_loader\u001b[0m:\u001b[36msetup_single_loader\u001b[0m:\u001b[36m81\u001b[0m - \u001b[1mSetting up datamodules for ulixertinib\u001b[0m\n",
      "\u001b[32m2024-10-08 12:21:45.151\u001b[0m | \u001b[1mINFO    \u001b[0m | \u001b[36mcmonge.datasets.single_loader\u001b[0m:\u001b[36msplitter\u001b[0m:\u001b[36m80\u001b[0m - \u001b[1mSplitting dataset started.\u001b[0m\n",
      "\u001b[32m2024-10-08 12:21:45.164\u001b[0m | \u001b[1mINFO    \u001b[0m | \u001b[36mcmonge.datasets.single_loader\u001b[0m:\u001b[36msplitter\u001b[0m:\u001b[36m121\u001b[0m - \u001b[1mTarget dataset number of cells - train: (2286,), valid: (572,), test: (0,).\u001b[0m\n",
      "\u001b[32m2024-10-08 12:21:45.165\u001b[0m | \u001b[1mINFO    \u001b[0m | \u001b[36mcmonge.datasets.single_loader\u001b[0m:\u001b[36msplitter\u001b[0m:\u001b[36m124\u001b[0m - \u001b[1mControl dataset number of cells - train: (8796,), valid: (2199,), test: (0,).\u001b[0m\n",
      "\u001b[32m2024-10-08 12:21:45.166\u001b[0m | \u001b[1mINFO    \u001b[0m | \u001b[36mcmonge.datasets.single_loader\u001b[0m:\u001b[36msplitter\u001b[0m:\u001b[36m127\u001b[0m - \u001b[1mSplitting finished.\u001b[0m\n",
      "\u001b[32m2024-10-08 12:21:45.167\u001b[0m | \u001b[1mINFO    \u001b[0m | \u001b[36mcmonge.datasets.conditional_loader\u001b[0m:\u001b[36msetup_single_loader\u001b[0m:\u001b[36m81\u001b[0m - \u001b[1mSetting up datamodules for vemurafenib_cobimetinib\u001b[0m\n",
      "\u001b[32m2024-10-08 12:21:45.338\u001b[0m | \u001b[1mINFO    \u001b[0m | \u001b[36mcmonge.datasets.single_loader\u001b[0m:\u001b[36msplitter\u001b[0m:\u001b[36m80\u001b[0m - \u001b[1mSplitting dataset started.\u001b[0m\n",
      "\u001b[32m2024-10-08 12:21:45.353\u001b[0m | \u001b[1mINFO    \u001b[0m | \u001b[36mcmonge.datasets.single_loader\u001b[0m:\u001b[36msplitter\u001b[0m:\u001b[36m121\u001b[0m - \u001b[1mTarget dataset number of cells - train: (2156,), valid: (539,), test: (0,).\u001b[0m\n",
      "\u001b[32m2024-10-08 12:21:45.353\u001b[0m | \u001b[1mINFO    \u001b[0m | \u001b[36mcmonge.datasets.single_loader\u001b[0m:\u001b[36msplitter\u001b[0m:\u001b[36m124\u001b[0m - \u001b[1mControl dataset number of cells - train: (8796,), valid: (2199,), test: (0,).\u001b[0m\n",
      "\u001b[32m2024-10-08 12:21:45.354\u001b[0m | \u001b[1mINFO    \u001b[0m | \u001b[36mcmonge.datasets.single_loader\u001b[0m:\u001b[36msplitter\u001b[0m:\u001b[36m127\u001b[0m - \u001b[1mSplitting finished.\u001b[0m\n",
      "\u001b[32m2024-10-08 12:21:45.355\u001b[0m | \u001b[1mINFO    \u001b[0m | \u001b[36mcmonge.datasets.conditional_loader\u001b[0m:\u001b[36msetup_single_loader\u001b[0m:\u001b[36m81\u001b[0m - \u001b[1mSetting up datamodules for vindesine\u001b[0m\n",
      "\u001b[32m2024-10-08 12:21:45.526\u001b[0m | \u001b[1mINFO    \u001b[0m | \u001b[36mcmonge.datasets.single_loader\u001b[0m:\u001b[36msplitter\u001b[0m:\u001b[36m80\u001b[0m - \u001b[1mSplitting dataset started.\u001b[0m\n",
      "\u001b[32m2024-10-08 12:21:45.540\u001b[0m | \u001b[1mINFO    \u001b[0m | \u001b[36mcmonge.datasets.single_loader\u001b[0m:\u001b[36msplitter\u001b[0m:\u001b[36m121\u001b[0m - \u001b[1mTarget dataset number of cells - train: (1681,), valid: (421,), test: (0,).\u001b[0m\n",
      "\u001b[32m2024-10-08 12:21:45.541\u001b[0m | \u001b[1mINFO    \u001b[0m | \u001b[36mcmonge.datasets.single_loader\u001b[0m:\u001b[36msplitter\u001b[0m:\u001b[36m124\u001b[0m - \u001b[1mControl dataset number of cells - train: (8796,), valid: (2199,), test: (0,).\u001b[0m\n",
      "\u001b[32m2024-10-08 12:21:45.541\u001b[0m | \u001b[1mINFO    \u001b[0m | \u001b[36mcmonge.datasets.single_loader\u001b[0m:\u001b[36msplitter\u001b[0m:\u001b[36m127\u001b[0m - \u001b[1mSplitting finished.\u001b[0m\n"
     ]
    }
   ],
   "source": [
    "datamodule = ConditionalDataModule(config.data, config.condition)"
   ]
  },
  {
   "cell_type": "code",
   "execution_count": 7,
   "id": "8ad0aee9-3d58-4dee-9be1-ab6e276e0d44",
   "metadata": {},
   "outputs": [
    {
     "name": "stderr",
     "output_type": "stream",
     "text": [
      "\u001b[32m2024-10-08 12:21:45.547\u001b[0m | \u001b[1mINFO    \u001b[0m | \u001b[36mcmonge.models.embedding\u001b[0m:\u001b[36m__init__\u001b[0m:\u001b[36m65\u001b[0m - \u001b[1mCalculating RDKit embedding vectors\u001b[0m\n",
      "100%|███████████████████████████████████████████| 31/31 [00:00<00:00, 38.65it/s]\n"
     ]
    },
    {
     "name": "stdout",
     "output_type": "stream",
     "text": [
      "Deleting columns with std<=0.01: ['latent_61', 'latent_84', 'latent_90', 'latent_103', 'latent_119', 'latent_122', 'latent_127', 'latent_129', 'latent_137', 'latent_138', 'latent_139', 'latent_143', 'latent_146', 'latent_147', 'latent_148', 'latent_150', 'latent_152', 'latent_153', 'latent_157', 'latent_158', 'latent_160', 'latent_161', 'latent_164', 'latent_165', 'latent_168', 'latent_172', 'latent_173', 'latent_174', 'latent_175', 'latent_176', 'latent_177', 'latent_178', 'latent_180', 'latent_181', 'latent_182', 'latent_183', 'latent_187', 'latent_189', 'latent_190', 'latent_192', 'latent_194', 'latent_196', 'latent_197']\n"
     ]
    },
    {
     "data": {
      "text/plain": [
       "<cmonge.models.embedding.RDKitEmbedding at 0x7fcd1a520d60>"
      ]
     },
     "execution_count": 7,
     "metadata": {},
     "output_type": "execute_result"
    }
   ],
   "source": [
    "RDKitEmbedding(checkpoint=checkpoint, smile_path=smiles_path, drug_to_smile_path=drugs_to_smiles_path, \n",
    "              name=name, model_dir=model_dir, datamodule=datamodule, drug_list=smiles[\"drug\"].values)"
   ]
  },
  {
   "cell_type": "code",
   "execution_count": 8,
   "id": "ee486a0d-e01f-42ec-81c8-73a5bc105def",
   "metadata": {},
   "outputs": [
    {
     "data": {
      "text/plain": [
       "array(['imatinib', 'midostaurin', 'carfilzomib', 'temozolomide',\n",
       "       'lenalidomide', 'pomalidomide', 'crizotinib', 'mln2480',\n",
       "       'palbociclib', 'cisplatin', 'decitabine', 'cobimetinib',\n",
       "       'sorafenib', 'hydroxyurea', 'panobinostat', 'trametinib',\n",
       "       'vemurafenib', 'olaparib', 'ulixertinib', 'regorafenib',\n",
       "       'staurosporine', 'dabrafenib', 'erlotinib', 'dasatinib',\n",
       "       'vindesine', 'dexamethasone', 'everolimus', 'melphalan',\n",
       "       'paclitaxel', 'dacarbazine', 'ixazomib'], dtype=object)"
      ]
     },
     "execution_count": 8,
     "metadata": {},
     "output_type": "execute_result"
    }
   ],
   "source": [
    "smiles[\"drug\"].values"
   ]
  },
  {
   "cell_type": "code",
   "execution_count": null,
   "id": "f6b27004-7ce8-4d07-af19-54aa2cb0d08a",
   "metadata": {},
   "outputs": [],
   "source": []
  }
 ],
 "metadata": {
  "kernelspec": {
   "display_name": "Python 3 (ipykernel)",
   "language": "python",
   "name": "python3"
  },
  "language_info": {
   "codemirror_mode": {
    "name": "ipython",
    "version": 3
   },
   "file_extension": ".py",
   "mimetype": "text/x-python",
   "name": "python",
   "nbconvert_exporter": "python",
   "pygments_lexer": "ipython3",
   "version": "3.10.14"
  }
 },
 "nbformat": 4,
 "nbformat_minor": 5
}
