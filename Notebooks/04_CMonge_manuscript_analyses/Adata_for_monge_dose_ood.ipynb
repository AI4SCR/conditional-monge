{
 "cells": [
  {
   "cell_type": "code",
   "execution_count": 1,
   "id": "019f9070-a816-4292-954d-26eee4e3c05c",
   "metadata": {},
   "outputs": [],
   "source": [
    "import scanpy as sc\n"
   ]
  },
  {
   "cell_type": "code",
   "execution_count": null,
   "id": "e9778582-db81-4387-b8ec-bba5a3740d71",
   "metadata": {},
   "outputs": [],
   "source": [
    "adata = sc.read_h5ad(\"/path/to/data/datasets/scrna-sciplex3/hvg.h5ad\")\n",
    "with open(\"/path/to/data/datasets/scrna-sciplex3/drugs.txt\", \"r\") as f:\n",
    "    drugs = f.readlines()\n",
    "drugs = [d.strip() for d in drugs]"
   ]
  },
  {
   "cell_type": "code",
   "execution_count": 3,
   "id": "48415798-07f3-4889-99ca-ffe095fb5646",
   "metadata": {},
   "outputs": [
    {
     "data": {
      "text/plain": [
       "['abexinostat',\n",
       " 'belinostat',\n",
       " 'dacinostat',\n",
       " 'entinostat',\n",
       " 'givinostat',\n",
       " 'mocetinostat',\n",
       " 'pracinostat',\n",
       " 'tacedinaline',\n",
       " 'trametinib']"
      ]
     },
     "execution_count": 3,
     "metadata": {},
     "output_type": "execute_result"
    }
   ],
   "source": [
    "drugs"
   ]
  },
  {
   "cell_type": "code",
   "execution_count": 4,
   "id": "6edb0b5c-3b4c-443c-90af-ca4e68fb1575",
   "metadata": {},
   "outputs": [],
   "source": [
    "sel_adata = adata[adata.obs[\"drug\"].isin(drugs+[\"control\"])]"
   ]
  },
  {
   "cell_type": "code",
   "execution_count": 5,
   "id": "76cb4e58-a9ca-4395-83ae-0fb233e7cb00",
   "metadata": {},
   "outputs": [
    {
     "data": {
      "text/plain": [
       "Index(['size_factor', 'cell_type', 'replicate', 'dose', 'drug_code',\n",
       "       'pathway_level_1', 'pathway_level_2', 'product_name', 'target',\n",
       "       'pathway', 'drug', 'drug-dose', 'drug_code-dose', 'n_genes'],\n",
       "      dtype='object')"
      ]
     },
     "execution_count": 5,
     "metadata": {},
     "output_type": "execute_result"
    }
   ],
   "source": [
    "sel_adata.obs.columns"
   ]
  },
  {
   "cell_type": "code",
   "execution_count": 7,
   "id": "b211f77d-9f95-48a8-bf1d-7c1a22da05fc",
   "metadata": {},
   "outputs": [
    {
     "name": "stderr",
     "output_type": "stream",
     "text": [
      "/tmp/ipykernel_1664988/3354327613.py:5: ImplicitModificationWarning: Trying to modify attribute `.obs` of view, initializing view as actual.\n",
      "  sel_adata.obs[f\"{drug}-{dose}-ood\"] = None\n"
     ]
    },
    {
     "name": "stdout",
     "output_type": "stream",
     "text": [
      "abexinostat 10\n",
      "abexinostat 100\n",
      "abexinostat 1000\n",
      "abexinostat 10000\n",
      "belinostat 10\n",
      "belinostat 100\n",
      "belinostat 1000\n",
      "belinostat 10000\n",
      "dacinostat 10\n",
      "dacinostat 100\n",
      "dacinostat 1000\n",
      "dacinostat 10000\n",
      "entinostat 10\n",
      "entinostat 100\n",
      "entinostat 1000\n",
      "entinostat 10000\n",
      "givinostat 10\n",
      "givinostat 100\n",
      "givinostat 1000\n",
      "givinostat 10000\n",
      "mocetinostat 10\n",
      "mocetinostat 100\n",
      "mocetinostat 1000\n",
      "mocetinostat 10000\n",
      "pracinostat 10\n",
      "pracinostat 100\n",
      "pracinostat 1000\n",
      "pracinostat 10000\n",
      "tacedinaline 10\n",
      "tacedinaline 100\n",
      "tacedinaline 1000\n",
      "tacedinaline 10000\n",
      "trametinib 10\n",
      "trametinib 100\n",
      "trametinib 1000\n",
      "trametinib 10000\n"
     ]
    }
   ],
   "source": [
    "for drug in drugs:\n",
    "    for dose in [10, 100, 1000, 10000]:\n",
    "        train_cond = [f\"{drug}-{d}\" for d in [10, 100, 1000, 10000] if d!=dose]\n",
    "\n",
    "        sel_adata.obs[f\"{drug}-{dose}-ood\"] = None\n",
    "        sel_adata.obs.loc[sel_adata.obs[\"drug-dose\"]==\"control-0\", f\"{drug}-{dose}-ood\"] = \"control-0\"\n",
    "        sel_adata.obs.loc[sel_adata.obs[\"drug-dose\"].isin(train_cond), f\"{drug}-{dose}-ood\"] = \"train\"        \n",
    "        sel_adata.obs.loc[sel_adata.obs[\"drug-dose\"]==f\"{drug}-{dose}\", f\"{drug}-{dose}-ood\"] = f\"{drug}-{dose}\"\n",
    "        \n",
    "        print(drug, dose)\n"
   ]
  },
  {
   "cell_type": "code",
   "execution_count": 9,
   "id": "a1ec3ba8-380b-400d-b218-7e7ccff2b47c",
   "metadata": {},
   "outputs": [
    {
     "data": {
      "text/plain": [
       "array([None, 'control-0', 'trametinib-10000', 'train'], dtype=object)"
      ]
     },
     "execution_count": 9,
     "metadata": {},
     "output_type": "execute_result"
    }
   ],
   "source": [
    "sel_adata.obs[\"trametinib-10000-ood\"].unique()"
   ]
  },
  {
   "cell_type": "code",
   "execution_count": null,
   "id": "14a72d2b-6816-4185-959e-eb84119415f7",
   "metadata": {},
   "outputs": [],
   "source": [
    "sel_adata.write_h5ad(\"/path/to/data/sciplex_monge_ood/hvg_monge_dose_ood.h5ad\")"
   ]
  },
  {
   "cell_type": "code",
   "execution_count": null,
   "id": "56112046-140c-4a6d-9459-8988c2f0aa22",
   "metadata": {},
   "outputs": [],
   "source": []
  }
 ],
 "metadata": {
  "kernelspec": {
   "display_name": "Python 3 (ipykernel)",
   "language": "python",
   "name": "python3"
  },
  "language_info": {
   "codemirror_mode": {
    "name": "ipython",
    "version": 3
   },
   "file_extension": ".py",
   "mimetype": "text/x-python",
   "name": "python",
   "nbconvert_exporter": "python",
   "pygments_lexer": "ipython3",
   "version": "3.10.6"
  }
 },
 "nbformat": 4,
 "nbformat_minor": 5
}
