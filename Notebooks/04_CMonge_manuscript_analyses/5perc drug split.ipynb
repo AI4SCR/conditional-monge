{
 "cells": [
  {
   "cell_type": "code",
   "execution_count": 1,
   "id": "68524fea-8fdb-4ddf-8c52-3efcaabe6700",
   "metadata": {},
   "outputs": [],
   "source": [
    "import scanpy as sc\n",
    "import random\n",
    "from math import floor\n",
    "import pathlib\n",
    "from cmonge.utils import load_config\n",
    "import yaml\n",
    "import os"
   ]
  },
  {
   "cell_type": "code",
   "execution_count": 2,
   "id": "70e48931-2f32-48bb-a569-dfa4917c2f93",
   "metadata": {},
   "outputs": [],
   "source": [
    "random.seed(11111)"
   ]
  },
  {
   "cell_type": "code",
   "execution_count": 3,
   "id": "d3cd0d2c-2544-4112-b323-202fe2f5cff7",
   "metadata": {},
   "outputs": [],
   "source": [
    "adata = sc.read_h5ad(\"/Users/adr/Box/otperturb/datasets/scrna-sciplex3/hvg.h5ad\")"
   ]
  },
  {
   "cell_type": "code",
   "execution_count": 4,
   "id": "cc0bc72c-158a-4008-8c99-eacf51e06507",
   "metadata": {},
   "outputs": [
    {
     "name": "stdout",
     "output_type": "stream",
     "text": [
      "9\n"
     ]
    }
   ],
   "source": [
    "all_drugs = adata.obs[\"drug\"].unique().tolist()\n",
    "all_drugs.remove(\"control\")\n",
    "all_drugs.remove(\"enmd_2076_l__tartaric_acid\") # Not evaluated/used for some reason\n",
    "all_conditions = [f\"{d}-{dose}\" for d in all_drugs for dose in [\"10\", \"100\", \"1000\", \"10000\"]]\n",
    "\n",
    "print(floor(len(all_drugs)*0.05))"
   ]
  },
  {
   "cell_type": "code",
   "execution_count": 5,
   "id": "b8d900ef-2f8e-46cb-8ce9-acf5460c81c8",
   "metadata": {},
   "outputs": [
    {
     "name": "stdout",
     "output_type": "stream",
     "text": [
      "ruxolitinib 178\n",
      "roscovitine 169\n",
      "tazemetostat 160\n",
      "filgotinib 151\n",
      "nintedanib 142\n",
      "quercetin 133\n",
      "givinostat 124\n",
      "azacitidine 115\n",
      "sl_327 106\n",
      "bisindolylmaleimide_ix 97\n",
      "xav_939 88\n",
      "iniparib 79\n",
      "abt_737 70\n",
      "mc1568 61\n",
      "meprednisone 52\n",
      "dasatinib 43\n",
      "alvespimycin_hcl 34\n",
      "sns_314 25\n",
      "prednisone 16\n",
      "itsa_1 7\n",
      "SMALLER_SPLIT_eed226 0\n"
     ]
    }
   ],
   "source": [
    "while len(all_drugs)>=9:\n",
    "    ood_drugs = random.sample(all_drugs, 9)\n",
    "    all_drugs = [d for d in all_drugs if not d in ood_drugs] # Sets don't work well with random sampling for reproducible results\n",
    "    split_name = ood_drugs[0].split()[0]\n",
    "    print(split_name, len(all_drugs))\n",
    "    with open(f\"/Users/adr/Box/otperturb/datasets/scrna-chemCPA-sciplex/all_drugs/5perc_ood/{split_name}_ood_conditions.txt\", \"w\") as f:\n",
    "        for d in ood_drugs:\n",
    "            for dose in [\"-10\", \"-100\", \"-1000\", \"-10000\"]:\n",
    "                f.write(f\"{d}{dose}\\n\")\n",
    "    with open(f\"/Users/adr/Box/otperturb/datasets/scrna-chemCPA-sciplex/all_drugs/5perc_ood/{split_name}_ood_drugs.txt\", \"w\") as f:\n",
    "        for d in ood_drugs:\n",
    "                f.write(f\"{d}\\n\")\n",
    "\n",
    "if len(all_drugs)>0:\n",
    "    ood_drugs = all_drugs\n",
    "    all_drugs = [d for d in all_drugs if not d in ood_drugs]\n",
    "    split_name = f\"SMALLER_SPLIT_{ood_drugs[0].split()[0]}\"\n",
    "    print(split_name, len(all_drugs))\n",
    "    with open(f\"/Users/adr/Box/otperturb/datasets/scrna-chemCPA-sciplex/all_drugs/5perc_ood/{split_name}_ood_conditions.txt\", \"w\") as f:\n",
    "        for d in ood_drugs:\n",
    "            for dose in [\"-10\", \"-100\", \"-1000\", \"-10000\"]:\n",
    "                f.write(f\"{d}{dose}\\n\")\n",
    "    with open(f\"/Users/adr/Box/otperturb/datasets/scrna-chemCPA-sciplex/all_drugs/5perc_ood/{split_name}_ood_drugs.txt\", \"w\") as f:\n",
    "        for d in ood_drugs:\n",
    "                f.write(f\"{d}\\n\")"
   ]
  },
  {
   "cell_type": "code",
   "execution_count": 6,
   "id": "5edffd06-a40b-48cf-80fa-b6c75cc1f5db",
   "metadata": {},
   "outputs": [
    {
     "data": {
      "text/plain": [
       "[]"
      ]
     },
     "execution_count": 6,
     "metadata": {},
     "output_type": "execute_result"
    }
   ],
   "source": [
    "all_drugs"
   ]
  },
  {
   "cell_type": "markdown",
   "id": "9244a1b5-d794-4710-823a-ebcbde07a08a",
   "metadata": {},
   "source": [
    "# Create configs for training CMonge on vela"
   ]
  },
  {
   "cell_type": "code",
   "execution_count": 7,
   "id": "e546144f-aa6d-4c6e-b293-53cb7ee507eb",
   "metadata": {},
   "outputs": [
    {
     "data": {
      "text/plain": [
       "['/Users/adr/Box/otperturb/datasets/scrna-chemCPA-sciplex/all_drugs/5perc_ood/filgotinib_ood_conditions.txt',\n",
       " '/Users/adr/Box/otperturb/datasets/scrna-chemCPA-sciplex/all_drugs/5perc_ood/iniparib_ood_conditions.txt',\n",
       " '/Users/adr/Box/otperturb/datasets/scrna-chemCPA-sciplex/all_drugs/5perc_ood/meprednisone_ood_conditions.txt',\n",
       " '/Users/adr/Box/otperturb/datasets/scrna-chemCPA-sciplex/all_drugs/5perc_ood/mc1568_ood_conditions.txt',\n",
       " '/Users/adr/Box/otperturb/datasets/scrna-chemCPA-sciplex/all_drugs/5perc_ood/ruxolitinib_ood_conditions.txt',\n",
       " '/Users/adr/Box/otperturb/datasets/scrna-chemCPA-sciplex/all_drugs/5perc_ood/tazemetostat_ood_conditions.txt',\n",
       " '/Users/adr/Box/otperturb/datasets/scrna-chemCPA-sciplex/all_drugs/5perc_ood/itsa_1_ood_conditions.txt',\n",
       " '/Users/adr/Box/otperturb/datasets/scrna-chemCPA-sciplex/all_drugs/5perc_ood/alvespimycin_hcl_ood_conditions.txt',\n",
       " '/Users/adr/Box/otperturb/datasets/scrna-chemCPA-sciplex/all_drugs/5perc_ood/nintedanib_ood_conditions.txt',\n",
       " '/Users/adr/Box/otperturb/datasets/scrna-chemCPA-sciplex/all_drugs/5perc_ood/givinostat_ood_conditions.txt',\n",
       " '/Users/adr/Box/otperturb/datasets/scrna-chemCPA-sciplex/all_drugs/5perc_ood/quercetin_ood_conditions.txt',\n",
       " '/Users/adr/Box/otperturb/datasets/scrna-chemCPA-sciplex/all_drugs/5perc_ood/bisindolylmaleimide_ix_ood_conditions.txt',\n",
       " '/Users/adr/Box/otperturb/datasets/scrna-chemCPA-sciplex/all_drugs/5perc_ood/xav_939_ood_conditions.txt',\n",
       " '/Users/adr/Box/otperturb/datasets/scrna-chemCPA-sciplex/all_drugs/5perc_ood/SMALLER_SPLIT_eed226_ood_conditions.txt',\n",
       " '/Users/adr/Box/otperturb/datasets/scrna-chemCPA-sciplex/all_drugs/5perc_ood/abt_737_ood_conditions.txt',\n",
       " '/Users/adr/Box/otperturb/datasets/scrna-chemCPA-sciplex/all_drugs/5perc_ood/sl_327_ood_conditions.txt',\n",
       " '/Users/adr/Box/otperturb/datasets/scrna-chemCPA-sciplex/all_drugs/5perc_ood/prednisone_ood_conditions.txt',\n",
       " '/Users/adr/Box/otperturb/datasets/scrna-chemCPA-sciplex/all_drugs/5perc_ood/sns_314_ood_conditions.txt',\n",
       " '/Users/adr/Box/otperturb/datasets/scrna-chemCPA-sciplex/all_drugs/5perc_ood/dasatinib_ood_conditions.txt',\n",
       " '/Users/adr/Box/otperturb/datasets/scrna-chemCPA-sciplex/all_drugs/5perc_ood/roscovitine_ood_conditions.txt',\n",
       " '/Users/adr/Box/otperturb/datasets/scrna-chemCPA-sciplex/all_drugs/5perc_ood/azacitidine_ood_conditions.txt']"
      ]
     },
     "execution_count": 7,
     "metadata": {},
     "output_type": "execute_result"
    }
   ],
   "source": [
    "cond_files = [str(f.absolute()) for f in pathlib.Path(\"/Users/adr/Box/otperturb/datasets/scrna-chemCPA-sciplex/all_drugs/5perc_ood/\").glob(\"*_conditions.txt\")]\n",
    "cond_files"
   ]
  },
  {
   "cell_type": "code",
   "execution_count": 8,
   "id": "541d8f48-617b-4071-926d-931bb95c002e",
   "metadata": {},
   "outputs": [],
   "source": [
    "base_moa_config = load_config(\"/Users/adr/Projects/enlight/enlight/OT_analysis/condmonge/vela/configs/cmonge_9_ood_big_moa.yaml\")\n",
    "base_rdkit_config = load_config(\"/Users/adr/Projects/enlight/enlight/OT_analysis/condmonge/vela/configs/cmonge_9_ood_big_RDkit.yaml\")"
   ]
  },
  {
   "cell_type": "code",
   "execution_count": 10,
   "id": "11fd6d90-834f-4db0-abac-839646cd5064",
   "metadata": {},
   "outputs": [
    {
     "name": "stdout",
     "output_type": "stream",
     "text": [
      "Directory exists\n",
      "Directory exists\n",
      "Directory exists\n",
      "Directory exists\n",
      "Directory exists\n",
      "Directory exists\n",
      "Directory exists\n",
      "Directory exists\n",
      "Directory exists\n",
      "Directory exists\n",
      "Directory exists\n",
      "Directory exists\n",
      "Directory exists\n",
      "Directory exists\n",
      "Directory exists\n",
      "Directory exists\n",
      "Directory exists\n",
      "Directory exists\n",
      "Directory exists\n",
      "Directory exists\n",
      "Directory exists\n",
      "Directory exists\n",
      "Directory exists\n",
      "Directory exists\n",
      "Directory exists\n",
      "Directory exists\n",
      "Directory exists\n",
      "Directory exists\n",
      "Directory exists\n",
      "Directory exists\n",
      "Directory exists\n",
      "Directory exists\n",
      "Directory exists\n",
      "Directory exists\n",
      "Directory exists\n",
      "Directory exists\n",
      "Directory exists\n",
      "Directory exists\n",
      "Directory exists\n",
      "Directory exists\n",
      "Directory exists\n",
      "Directory exists\n"
     ]
    }
   ],
   "source": [
    "for split in cond_files:\n",
    "    with open(split, \"r\") as f:\n",
    "        ood_conditions = f.readlines()\n",
    "    ood_conditions = [c.strip() for c in ood_conditions]\n",
    "    id_conditions = [c for c in all_conditions if not c in ood_conditions]\n",
    "\n",
    "    ood_drug_file = f\"{split[:-15]}_drugs.txt\"\n",
    "    with open(ood_drug_file, \"r\") as f:\n",
    "        ood_drugs = f.readlines()\n",
    "    ood_drugs = [d.strip() for d in ood_drugs]\n",
    "    \n",
    "    moa_config = load_config(\"/Users/adr/Projects/enlight/enlight/OT_analysis/condmonge/vela/configs/cmonge_9_ood_big_moa.yaml\")\n",
    "    rdkit_config = load_config(\"/Users/adr/Projects/enlight/enlight/OT_analysis/condmonge/vela/configs/cmonge_9_ood_big_RDkit.yaml\")\n",
    "\n",
    "    moa_config.condition.conditions = id_conditions\n",
    "    moa_config.logger_path = f\"/data/cmonge/models/5perc_ood/moa/{ood_drugs[0]}_ood/\"\n",
    "    moa_config.model.checkpointing_args.checkpoint_dir = f\"/data/cmonge/models/5perc_ood/moa/{ood_drugs[0]}_ood/model/\"\n",
    "    moa_config.ood_condition.conditions = ood_conditions\n",
    "    moa_config.ood_drug = \"-\".join(ood_drugs)\n",
    "    # moa_config.data.batch_size = 2048\n",
    "    # moa_config.model.optim.grad_acc_steps = 1\n",
    "\n",
    "    rdkit_config.condition.conditions = id_conditions\n",
    "    rdkit_config.logger_path = f\"/data/cmonge/models/5perc_ood/rdkit/{ood_drugs[0]}_ood/\"\n",
    "    rdkit_config.model.checkpointing_args.checkpoint_dir = f\"/data/cmonge/models/5perc_ood/rdkit/{ood_drugs[0]}_ood/model/\"\n",
    "    rdkit_config.ood_condition.conditions = ood_conditions\n",
    "    rdkit_config.ood_drug = \"-\".join(ood_drugs)\n",
    "    # rdkit_config.data.batch_size = 2048\n",
    "    # rdkit_config.model.optim.grad_acc_steps = 1\n",
    "\n",
    "    assert ood_drugs[0] in split\n",
    "    \n",
    "    with open(f\"/Users/adr/Box/otperturb/alice_exp/sciplex_5perc_ood/configs/{ood_drugs[0]}_ood_moa_config.yaml\", \"w\") as f:\n",
    "        yaml.dump(moa_config.toDict(), f, default_flow_style=False)\n",
    "    with open(f\"/Users/adr/Box/otperturb/alice_exp/sciplex_5perc_ood/configs/{ood_drugs[0]}_ood_rdkit_config.yaml\", \"w\") as f:\n",
    "        yaml.dump(rdkit_config.toDict(), f, default_flow_style=False)\n",
    "\n",
    "    try:\n",
    "        os.makedirs(f\"/Users/adr/Box/otperturb/alice_exp/sciplex_5perc_ood/moa/{ood_drugs[0]}_ood/\")\n",
    "    except FileExistsError:\n",
    "        print(\"Directory exists\")\n",
    "    try:\n",
    "        os.makedirs(f\"/Users/adr/Box/otperturb/alice_exp/sciplex_5perc_ood/rdkit/{ood_drugs[0]}_ood/\")\n",
    "    except FileExistsError:\n",
    "        print(\"Directory exists\")\n",
    "    \n",
    "    with open(f\"/Users/adr/Box/otperturb/alice_exp/sciplex_5perc_ood/moa/{ood_drugs[0]}_ood/config.yaml\", \"w\") as f:\n",
    "        yaml.dump(moa_config.toDict(), f, default_flow_style=False)\n",
    "    with open(f\"/Users/adr/Box/otperturb/alice_exp/sciplex_5perc_ood/rdkit/{ood_drugs[0]}_ood/config.yaml\", \"w\") as f:\n",
    "        yaml.dump(rdkit_config.toDict(), f, default_flow_style=False)\n",
    "    "
   ]
  },
  {
   "cell_type": "code",
   "execution_count": null,
   "id": "c8d902ba-0988-4ee7-8af0-c454ef278173",
   "metadata": {},
   "outputs": [],
   "source": []
  }
 ],
 "metadata": {
  "kernelspec": {
   "display_name": "Python 3 (ipykernel)",
   "language": "python",
   "name": "python3"
  },
  "language_info": {
   "codemirror_mode": {
    "name": "ipython",
    "version": 3
   },
   "file_extension": ".py",
   "mimetype": "text/x-python",
   "name": "python",
   "nbconvert_exporter": "python",
   "pygments_lexer": "ipython3",
   "version": "3.10.1"
  }
 },
 "nbformat": 4,
 "nbformat_minor": 5
}
