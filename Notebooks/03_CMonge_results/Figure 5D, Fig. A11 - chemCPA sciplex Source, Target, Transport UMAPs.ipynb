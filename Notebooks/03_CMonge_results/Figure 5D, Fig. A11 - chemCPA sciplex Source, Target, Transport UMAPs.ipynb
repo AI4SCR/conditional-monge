{
 "cells": [
  {
   "cell_type": "code",
   "execution_count": 1,
   "id": "a36867bf-ba68-4152-a821-a222ac96eb3b",
   "metadata": {},
   "outputs": [
    {
     "name": "stderr",
     "output_type": "stream",
     "text": [
      "/Users/adr/miniconda3/envs/cmonge_updated/lib/python3.10/site-packages/tqdm/auto.py:21: TqdmWarning: IProgress not found. Please update jupyter and ipywidgets. See https://ipywidgets.readthedocs.io/en/stable/user_install.html\n",
      "  from .autonotebook import tqdm as notebook_tqdm\n"
     ]
    }
   ],
   "source": [
    "import pickle\n",
    "import umap\n",
    "\n",
    "import scanpy as sc\n",
    "import pandas as pd\n",
    "import seaborn as sns\n",
    "import matplotlib as mpl\n",
    "import matplotlib.pyplot as plt"
   ]
  },
  {
   "cell_type": "code",
   "execution_count": 2,
   "id": "77780fd1-ddfa-4005-8388-70f52cf2daee",
   "metadata": {},
   "outputs": [],
   "source": [
    "logger_path = \"/Users/adr/Box/otperturb/alice_exp/notebook_logger.json\"\n",
    "base_exp_path = \"/Users/adr/Box/otperturb/alice_exp/chemCPA/chemCPA_on_cmonge_sciplex/\"\n",
    "base_fig_save = \"/Users/adr/Box/otperturb/alice_exp/figures/UMAPs/\"\n",
    "drugs_file = \"/Users/adr/Box/otperturb/datasets/scrna-sciplex3/drugs.txt\"\n",
    "dosages=[\"-10\", \"-100\", \"-1000\", \"-10000\"]"
   ]
  },
  {
   "cell_type": "code",
   "execution_count": 3,
   "id": "39b370e5-96b7-4537-b31f-6eb7af8652dd",
   "metadata": {},
   "outputs": [],
   "source": [
    "with open(drugs_file, 'r') as f:\n",
    "    drugs = f.readlines()\n",
    "drugs=[d[:-1] for d in drugs]"
   ]
  },
  {
   "cell_type": "code",
   "execution_count": 4,
   "id": "46e9d2c4-cfa5-4b93-8b72-540620186b95",
   "metadata": {},
   "outputs": [],
   "source": [
    "adata = sc.read_h5ad(\"/Users/adr/Box/otperturb/datasets/scrna-sciplex3/hvg.h5ad\")\n",
    "adata = adata[adata.obs[\"drug\"].isin(drugs+[\"control\"])]"
   ]
  },
  {
   "cell_type": "code",
   "execution_count": 5,
   "id": "f76c228a-cbd6-4a8d-8d94-435ff79f0cd2",
   "metadata": {},
   "outputs": [],
   "source": [
    "umapper=umap.UMAP(random_state=1234)"
   ]
  },
  {
   "cell_type": "code",
   "execution_count": 6,
   "id": "d480a1e1-2cb2-47d7-b218-1dbe83cfa484",
   "metadata": {},
   "outputs": [
    {
     "name": "stderr",
     "output_type": "stream",
     "text": [
      "/Users/adr/miniconda3/envs/cmonge_updated/lib/python3.10/site-packages/umap/umap_.py:1952: UserWarning: n_jobs value 1 overridden to 1 by setting random_state. Use no seed for parallelism.\n",
      "  warn(\n",
      "/var/folders/54/s3nhktxs0tz7w0f6tsj6pltc0000kp/T/ipykernel_93973/779591978.py:1: ImplicitModificationWarning: Trying to modify attribute `.obs` of view, initializing view as actual.\n",
      "  adata.obs[[\"UMAP1\", \"UMAP2\"]] = umapper.fit_transform(adata.X)\n"
     ]
    }
   ],
   "source": [
    "adata.obs[[\"UMAP1\", \"UMAP2\"]] = umapper.fit_transform(adata.X)"
   ]
  },
  {
   "cell_type": "markdown",
   "id": "ba495e9f-c255-4c9c-8630-334568945845",
   "metadata": {},
   "source": [
    "## chemCPA results"
   ]
  },
  {
   "cell_type": "code",
   "execution_count": 7,
   "id": "78d0338c-761a-4db8-a732-5f501b8dfc0b",
   "metadata": {},
   "outputs": [],
   "source": [
    "batch_size=512"
   ]
  },
  {
   "cell_type": "code",
   "execution_count": 8,
   "id": "afb17974-2351-4090-bd91-fda9fe9d2d0c",
   "metadata": {},
   "outputs": [],
   "source": [
    "adata_with_split = sc.read_h5ad(\"/Users/adr/Box/otperturb/datasets/scrna-chemCPA-sciplex/cmonge_adata_with_chemCPA_split.h5ad\")"
   ]
  },
  {
   "cell_type": "code",
   "execution_count": 13,
   "id": "1d8fea25-dcec-4f48-aa06-158260dae3af",
   "metadata": {},
   "outputs": [
    {
     "name": "stdout",
     "output_type": "stream",
     "text": [
      "abexinostat\n",
      "belinostat\n",
      "dacinostat\n",
      "entinostat\n",
      "givinostat\n",
      "mocetinostat\n",
      "pracinostat\n",
      "tacedinaline\n",
      "trametinib\n"
     ]
    }
   ],
   "source": [
    "for drug in drugs:\n",
    "    with open(f\"{base_exp_path}{drug}_ood_train_8/prediction_dict_ood.pkl\", \"rb\") as f:\n",
    "        pred_dict = pickle.load(f)\n",
    "\n",
    "    print(drug)\n",
    "    all_drug_source = adata_with_split[(adata_with_split.obs[f\"{drug}_ood_train_8_split\"]==\"test\")&(adata_with_split.obs[\"drug\"]==\"control\")]\n",
    "    all_drug_pred = []\n",
    "    all_true = []\n",
    "    all_source = []\n",
    "    for cond, true_pred_degs in pred_dict.items():\n",
    "        all_drug_pred.append(pd.DataFrame(true_pred_degs[1]))\n",
    "        all_true.append(pd.DataFrame(true_pred_degs[0]))\n",
    "        all_source.append(pd.DataFrame(all_drug_source.X.todense()))\n",
    "    all_drug_pred = pd.concat(all_drug_pred, keys=pred_dict.keys(), names=(\"cl_drug_dose\", \"\"))\n",
    "    all_true = pd.concat(all_true, keys=pred_dict.keys(), names=(\"cl_drug_dose\", \"\"))\n",
    "    all_source = pd.concat(all_source, keys=pred_dict.keys(), names=(\"cl_drug_dose\", \"\"))\n",
    "    \n",
    "    \n",
    "    all_drug_pred[[\"UMAP1\", \"UMAP2\"]] = umapper.transform(all_drug_pred)\n",
    "    all_true[[\"UMAP1\", \"UMAP2\"]] = umapper.transform(all_true)\n",
    "    all_source[[\"UMAP1\", \"UMAP2\"]] = umapper.transform(all_source)\n",
    "    all_drug_pred[\"dtype\"] = \"trans\"\n",
    "    all_true[\"dtype\"] = \"target\"\n",
    "    all_source[\"dtype\"] = \"source\"\n",
    "    \n",
    "    all_cells = pd.concat([all_drug_pred, all_true, all_source])\n",
    "    \n",
    "    all_cells = all_cells.reset_index(\"cl_drug_dose\")\n",
    "    all_cells[[\"cell_line\", \"drug\", \"dose\"]] = [c.split(\"_\") for c in all_cells[\"cl_drug_dose\"]]\n",
    "    all_cells[\"dose\"] = (all_cells[\"dose\"].astype(float) * 10000).astype(int).astype(str)\n",
    "    all_cells[\"condition\"] = all_cells[\"drug\"] + \"-\" + all_cells[\"dose\"]\n",
    "    all_cells = all_cells.groupby([\"dtype\", \"condition\"]).sample(n=batch_size)\n",
    "\n",
    "    fig, ax = plt.subplots(figsize=(5,5))\n",
    "    sns.scatterplot(data=adata.obs, x=\"UMAP1\", y=\"UMAP2\", color=\"lightgrey\", s=5, ax=ax)\n",
    "    sns.scatterplot(data=all_cells, x=\"UMAP1\", y=\"UMAP2\", hue=\"dtype\", s=20, hue_order=[\"source\", \"target\", \"trans\"], ax=ax,\n",
    "                   alpha=0.5)\n",
    "    plt.title(f\"{drug} OOD\")\n",
    "    handles, labels = ax.get_legend_handles_labels()\n",
    "    plt.legend(handles, [\"Source\", \"Target\", \"Transport\"], title=\"\", loc=\"lower left\", markerscale=3)\n",
    "    plt.savefig(f\"{base_fig_save}chemCPA_{drug}_STT_UMAP.png\", bbox_inches=\"tight\", dpi=300)\n",
    "    plt.close()\n",
    "    \n",
    "    for condition in all_cells[\"condition\"].unique():\n",
    "        fig, ax = plt.subplots(figsize=(5,5))\n",
    "        sns.scatterplot(data=adata.obs, x=\"UMAP1\", y=\"UMAP2\", color=\"lightgrey\", s=5, ax=ax)\n",
    "        sns.scatterplot(data=all_cells[all_cells[\"condition\"]==condition], x=\"UMAP1\", y=\"UMAP2\", hue=\"dtype\", s=20, alpha=0.5,\n",
    "                        hue_order=[\"source\", \"target\", \"trans\"], ax=ax)\n",
    "        plt.title(f\"{condition} OOD\")\n",
    "        handles, labels = ax.get_legend_handles_labels()\n",
    "        plt.legend(handles, [\"Source\", \"Target\", \"Transport\"], title=\"\", loc=\"lower left\", markerscale=3)\n",
    "        plt.savefig(f\"{base_fig_save}chemCPA_{condition}_STT_UMAP.png\", bbox_inches=\"tight\", dpi=300)\n",
    "        plt.close()\n"
   ]
  },
  {
   "cell_type": "code",
   "execution_count": null,
   "id": "8da0ff17-e732-4f3c-b01b-fc78c97c41a5",
   "metadata": {},
   "outputs": [],
   "source": []
  }
 ],
 "metadata": {
  "kernelspec": {
   "display_name": "Python 3 (ipykernel)",
   "language": "python",
   "name": "python3"
  },
  "language_info": {
   "codemirror_mode": {
    "name": "ipython",
    "version": 3
   },
   "file_extension": ".py",
   "mimetype": "text/x-python",
   "name": "python",
   "nbconvert_exporter": "python",
   "pygments_lexer": "ipython3",
   "version": "3.10.14"
  }
 },
 "nbformat": 4,
 "nbformat_minor": 5
}
